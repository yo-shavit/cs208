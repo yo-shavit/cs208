{
 "cells": [
  {
   "cell_type": "markdown",
   "metadata": {},
   "source": [
    "# Homework 3 Submission\n",
    "## Yonadav Shavit"
   ]
  },
  {
   "cell_type": "code",
   "execution_count": 617,
   "metadata": {},
   "outputs": [
    {
     "name": "stdout",
     "output_type": "stream",
     "text": [
      "The autoreload extension is already loaded. To reload it, use:\n",
      "  %reload_ext autoreload\n"
     ]
    }
   ],
   "source": [
    "%load_ext autoreload\n",
    "%autoreload 2\n",
    "import numpy as np\n",
    "from scipy.special import factorial\n",
    "import pandas as pd\n",
    "import matplotlib.pyplot as plt\n",
    "from tqdm import tqdm_notebook"
   ]
  },
  {
   "cell_type": "markdown",
   "metadata": {},
   "source": [
    "## Problem 1"
   ]
  },
  {
   "cell_type": "markdown",
   "metadata": {},
   "source": [
    "### (a)"
   ]
  },
  {
   "cell_type": "markdown",
   "metadata": {},
   "source": [
    "Proving that this mechanism is $\\epsilon$-DP is equivalent to proving that the trimmed mean calculation has global sensitivity $GS = \\frac{D}{0.9n}$, because then the injected Laplace noise would ensure compliance.\n",
    "\n",
    "The maximum change caused by a single element changing would be a change from $0$ to $D$ (w.l.o.g.) - which would if the bottom 94.99...% were 0s, and the top 5.00...01% were $D$s, would cause an overall change of $\\frac{D}{0.9n}.$"
   ]
  },
  {
   "cell_type": "code",
   "execution_count": 618,
   "metadata": {},
   "outputs": [],
   "source": [
    "def lap_mechanism(epsilon, GS_q, size=None):\n",
    "    return np.random.laplace(scale=GS_q/epsilon, size=size)\n",
    "\n",
    "def dp_mean(x, epsilon, b, a=0):\n",
    "    x_clipped = np.clip(x, a, b)\n",
    "    GS_q = np.abs(b-a)/x.shape[0]\n",
    "    return x_clipped.mean() + lap_mechanism(epsilon, GS_q)\n",
    "\n",
    "def trimmed_mean(x, epsilon, D, upper=0.95, lower=0.05):\n",
    "    n = x.shape[0]\n",
    "    x_sorted = np.sort(x)\n",
    "    x_trimmed = x_sorted[int(n*lower):int(n*upper)]\n",
    "    GS_q = D/(0.9*n)\n",
    "    return (1/((upper - lower)*n))*np.sum(x_trimmed) + lap_mechanism(epsilon, GS_q)"
   ]
  },
  {
   "cell_type": "markdown",
   "metadata": {},
   "source": [
    "## (b)\n",
    "The winsorized mean is not $\\epsilon$-DP because the global sensitivity can, in certain cases, be much greater than $\\frac{D}{n}$.\n",
    "\n",
    "Say we have a dataset where the bottom 95.00...01% are $0$s and the top 4.99...% are $D$s (such that $P_{0.95} = 0$).\n",
    "Now, we switch a single $0$ to $D$, and suddenly $P_{0.95} = D$. This means that the overall mean calculation changes by $\\frac{D \\times 0.05n}{n} = .05D$.\n",
    "If $\\frac{D}{n} = GS_q < .05D$, i.e. $n>20$, this violates $\\epsilon$-DP."
   ]
  },
  {
   "cell_type": "markdown",
   "metadata": {},
   "source": [
    "## (c)\n",
    "The utility function for the exponential mechanism for $p_t$ would be:\n",
    "$$ u_t(x, y) = \\min \\{ \\frac{100-t}{100} \\left(\\#\\{ i: x_i \\leq y\\}\\right), \\frac{t}{100}\\left(\\#\\{ i: x_i \\geq y\\}\\right)\\}$$"
   ]
  },
  {
   "cell_type": "code",
   "execution_count": 619,
   "metadata": {},
   "outputs": [],
   "source": [
    "def pct_dp(x, t, epsilon):\n",
    "    x = np.sort(x)\n",
    "    n = x.shape[0]\n",
    "    x_inds = np.arange(0, n)\n",
    "\n",
    "    # NOTE: we use x > val and x < val rather than >= and <= because, other than the precise value, \n",
    "    # all the responses in the surrounding interval don't satisfy equality\n",
    "    lower = (1 - t/100)*(x_inds + 1) # everything up to the current interval start inclusive\n",
    "    upper = t/100      *(n - (x_inds + 1)) # everything from the current interval start exclusive\n",
    "    u = np.minimum(lower, upper)\n",
    "    u = u[:-1] # remove last element, which will definitely have probability 0\n",
    "\n",
    "    overflow_offset = np.max(epsilon*u)\n",
    "    exp_u = np.exp(epsilon*u - overflow_offset)\n",
    "    w = np.array([x[i+1] - x[i] for i in x_inds[:-1]])\n",
    "    p_raw = w*exp_u\n",
    "    p = p_raw/np.sum(p_raw)\n",
    "#     print(f\"u:{u}\\n exp_u:{exp_u}\\n p_raw:{p_raw}\\n p:{p}\")\n",
    "    interval_i = np.random.choice(x_inds[:-1], p=p)\n",
    "    return np.random.uniform(x[interval_i], x[interval_i + 1])"
   ]
  },
  {
   "cell_type": "markdown",
   "metadata": {},
   "source": [
    "## (d)"
   ]
  },
  {
   "cell_type": "code",
   "execution_count": 620,
   "metadata": {},
   "outputs": [],
   "source": [
    "def trimmed_mean_dp_bounds(x, epsilon, b):\n",
    "    n = x.shape[0]\n",
    "    x = np.sort(x)\n",
    "    p05 = pct_dp(x, 5, epsilon/3)\n",
    "    p05_ind = np.argmax((x>=p05))\n",
    "    p95 = pct_dp(x, 95, epsilon/3)\n",
    "    p95_ind = np.argmax(x>=p95)\n",
    "    x_trimmed = x[p05_ind:p95_ind]\n",
    "    GS_q = (p95 - p05)/(0.9*n)\n",
    "#     print(p95 - np.percentile(x, 95), p05 - np.percentile(x, 5))\n",
    "#     print(0.9*n, p95_ind - p05_ind)\n",
    "          \n",
    "    return (1/(0.9*n))*np.sum(x_trimmed) + lap_mechanism(epsilon/3, GS_q)"
   ]
  },
  {
   "cell_type": "code",
   "execution_count": 624,
   "metadata": {},
   "outputs": [
    {
     "name": "stdout",
     "output_type": "stream",
     "text": [
      "0.49921794143479653\n"
     ]
    }
   ],
   "source": [
    "x = np.random.random(size=1000)\n",
    "epsilon = 1\n",
    "# print(pct_dp(x, 95, epsilon/3))\n",
    "print(trimmed_mean_dp_bounds(x, epsilon, 10))"
   ]
  },
  {
   "cell_type": "markdown",
   "metadata": {},
   "source": [
    "## (e)\n",
    "This method actually seems to be differentially private, because a single input changing can no longer guaranteedly change the winsorization boundaries ($p_{.95}$ or $p_{.05}$).\n",
    "If a single element cannot substantially change the boundaries, then by that same logic it should have little impact on the $\\frac{n}{20}$ elements clamped to that value. Instead, its impact will primarily be felt as a single element change in the sum, which has bounded sensitivity $\\frac{P_{95} - P_{05}}{n}$.\n"
   ]
  },
  {
   "cell_type": "markdown",
   "metadata": {},
   "source": [
    "## (f)\n"
   ]
  },
  {
   "cell_type": "code",
   "execution_count": 625,
   "metadata": {},
   "outputs": [],
   "source": [
    "df = pd.read_csv(\"../data/MaPUMS5full.csv\")\n",
    "df.describe()\n",
    "puma_block_incomes = {puma_:df.income[df.puma == puma_].values for puma_ in df.puma.unique()}"
   ]
  },
  {
   "cell_type": "code",
   "execution_count": 626,
   "metadata": {},
   "outputs": [
    {
     "data": {
      "application/vnd.jupyter.widget-view+json": {
       "model_id": "404b4b2056d14c3f9a807349bb6aa5b5",
       "version_major": 2,
       "version_minor": 0
      },
      "text/plain": [
       "HBox(children=(IntProgress(value=0, max=52), HTML(value='')))"
      ]
     },
     "metadata": {},
     "output_type": "display_data"
    }
   ],
   "source": [
    "D = 1e6\n",
    "eps = 1\n",
    "trials = 100\n",
    "mean_types = [\"normal\", \"trimmed\", \"true\"]\n",
    "mean_algs = {\n",
    "    \"true\": lambda x, epsilon, b: np.mean(x),\n",
    "    \"normal\": dp_mean,\n",
    "    \"trimmed\": trimmed_mean_dp_bounds,\n",
    "}\n",
    "pumas = list(df.puma.unique())\n",
    "puma_means = {t:{} for t in mean_types}\n",
    "for puma_, puma_block in tqdm_notebook(puma_block_incomes.items()):\n",
    "    x = np.sort(puma_block)\n",
    "    for t in mean_types:\n",
    "        ms = [mean_algs[t](x=x, epsilon=eps, b=D) for _ in range(trials)]\n",
    "        puma_means[t][puma_] = ms"
   ]
  },
  {
   "cell_type": "code",
   "execution_count": 633,
   "metadata": {},
   "outputs": [
    {
     "name": "stdout",
     "output_type": "stream",
     "text": [
      "RMSE for Laplace Mechanism: 109426.60408923356\n",
      "RMSE for Trimming Mechanism: 57244680.08714796\n"
     ]
    }
   ],
   "source": [
    "# Let's calculate the RMSE:\n",
    "rmse_lap = np.mean((np.array(list(puma_means['normal'].values())) -\n",
    "                    np.array(list(puma_means['true'].values())))**2)\n",
    "rmse_trimmed = np.mean((np.array(list(puma_means['trimmed'].values())) -\n",
    "                        np.array(list(puma_means['true'].values())))**2)\n",
    "print(f\"RMSE for Laplace Mechanism: {rmse_lap}\")\n",
    "print(f\"RMSE for Trimming Mechanism: {rmse_trimmed}\")"
   ]
  },
  {
   "cell_type": "markdown",
   "metadata": {},
   "source": [
    "This disparity is enormous because the Trimming mechanism (likely due to a bug) consistently underestimated the mean. This is discussed further later."
   ]
  },
  {
   "cell_type": "code",
   "execution_count": 634,
   "metadata": {},
   "outputs": [],
   "source": [
    "puma_by_mean = [(puma_means[\"true\"][puma_][0], puma_) for puma_ in pumas]\n",
    "pumas_sorted = [p[1] for p in sorted(puma_by_mean)]"
   ]
  },
  {
   "cell_type": "code",
   "execution_count": 635,
   "metadata": {},
   "outputs": [],
   "source": [
    "results_df = pd.DataFrame(columns=['type_', 'puma_', 'mean'])\n",
    "for type_ in [\"normal\", \"trimmed\", \"true\"]:\n",
    "# for type_ in [\"normal\"]:\n",
    "#     for puma_ in pumas_sorted:\n",
    "    for i, puma_ in enumerate(pumas_sorted[:20]):\n",
    "        results_df = results_df.append(\n",
    "            pd.DataFrame(\n",
    "                np.stack([np.array([type_]*trials),\n",
    "                          np.array([i]*trials),\n",
    "                          puma_means[type_][puma_]],\n",
    "                         axis=-1\n",
    "                        ),\n",
    "                columns=['type_', 'puma_', 'mean']),\n",
    "        ) \n",
    "results_df = results_df.astype({\n",
    "    'type_': str,\n",
    "    'puma_': int,\n",
    "    'mean': float,\n",
    "})"
   ]
  },
  {
   "cell_type": "code",
   "execution_count": 636,
   "metadata": {},
   "outputs": [
    {
     "data": {
      "text/plain": [
       "<matplotlib.axes._subplots.AxesSubplot at 0x7f558f24a438>"
      ]
     },
     "execution_count": 636,
     "metadata": {},
     "output_type": "execute_result"
    },
    {
     "data": {
      "image/png": "[encoded data removed]",
      "text/plain": [
       "<Figure size 1440x720 with 1 Axes>"
      ]
     },
     "metadata": {},
     "output_type": "display_data"
    }
   ],
   "source": [
    "import seaborn as sns\n",
    "fig = plt.figure(figsize=(20,10))\n",
    "sns.boxplot(data=results_df,\n",
    "            hue='type_', x='puma_', y='mean',\n",
    "           )"
   ]
  },
  {
   "cell_type": "markdown",
   "metadata": {},
   "source": [
    "We can see that the trimmed estimator consistently underestimates the mean value. (I think this is a bug, but haven't been able to find it). One reason for this is that the $p_{95}$ estimates tend to be conservative (meaningfully below the 95th percentile), perhaps because there are fewer values at the upper end of the distribution.\n",
    "This in turn leads to sum calculations that omit more than $0.9n$ of the training points, and thus the entire mean is scaled downward.\n",
    "\n",
    "We can see from the box and whisker plots that the trimming mean tends to have a longer tail in the negative direction.\n",
    "\n",
    "In theory (and without the bug), this method provides the same level of privacy with a lower level of noise in datasets with a few far-away outliers. This is because we get to scale down the \"global sensitivity\" by omitting the outliers, which is particularly helpful if most of the dataset is in a much narrower range.\n",
    "\n",
    "One way to improve utility in this example is that we know in income distributions that the outliers tend to all fall on one side - so shifting our omitted percentiles to be from 90% to 100% (rather than 0-5 and 95-100) would likely increase utility."
   ]
  },
  {
   "cell_type": "markdown",
   "metadata": {},
   "source": [
    "## (2)\n",
    "First, let's reimplement the R code from PSI."
   ]
  },
  {
   "cell_type": "code",
   "execution_count": 637,
   "metadata": {},
   "outputs": [],
   "source": [
    "from scipy.special import binom as choose\n",
    "def computeLHS(eguess, k, eps):\n",
    "    l = int(np.ceil((eguess + k*eps)/(2*eps)))\n",
    "    sum_ = 0\n",
    "    for i in range(l, k):\n",
    "        sum_ += choose(k, i)*(np.exp(i*eps) - np.exp(eguess + eps*(k-i)))\n",
    "    return sum_\n",
    "\n",
    "def KOVhom(params, d_g):\n",
    "\t# Computes the optimal composition theorem for the case when privacy parameters\n",
    "\t# do not differ across statistics. Theorem 3.3 [KOV15]. \n",
    "\t# \n",
    "\t# Args:\n",
    "\t#\tparams: a kx2 matrix where the first column corresponds to epsilon_i values and the second \n",
    "\t# \t\t\tcorresponds to delta_i values. \n",
    "\t#\td_g: global delta value\n",
    "\t#   \n",
    "\t# Returns:\n",
    "\t#\tglobal epsilon value guaranteed from the composition\n",
    "    k = params.shape[0]\n",
    "    eps = params[0, 0]\n",
    "    del_ = params[0, 1]\n",
    "    eterm = (1 + np.exp(eps))**k\n",
    "    dterm = (1 - del_)**k\n",
    "    RHS = eterm*(1 - ((1 - d_g)/dterm))\n",
    "    u = k*eps\n",
    "    l = 0\n",
    "    LHS = np.Inf\n",
    "    e_g = u\n",
    "    \n",
    "\t# Must do binary search to approach optimal value\n",
    "    count = 0\n",
    "    \n",
    "\t# Completely arbitrary cutoff of 50 rounds. Should have a more principled approach.\n",
    "    while count < 50:\n",
    "        eguess = l + ((u - l)/2)\n",
    "        LHS = computeLHS(eguess, k, eps)\n",
    "        \n",
    "\t\t# If eguess satisfies privacy:\n",
    "        if LHS <= RHS:\n",
    "            e_g = eguess\n",
    "            u = eguess\n",
    "        else:\n",
    "            l = eguess\n",
    "        count += 1\n",
    "    return e_g"
   ]
  },
  {
   "cell_type": "code",
   "execution_count": 638,
   "metadata": {},
   "outputs": [],
   "source": [
    "def basic_composition(k, e_g, delta):\n",
    "    e0 = e_g/k\n",
    "    return e0\n",
    "def advanced_composition(k, e_g, delta):\n",
    "    return e_g/np.sqrt(2*k*np.log(1/delta))\n",
    "tol = 1e-2\n",
    "def optimal_composition(k, e_g, delta):\n",
    "    # KOVhom yields e_g given e_0, so need to do binary search over e_0s\n",
    "    l = 0\n",
    "    u = 1\n",
    "    best_error_so_far = np.Inf\n",
    "    for i in range(100):\n",
    "        e0guess = l + (u-l)/2\n",
    "        found_eg = KOVhom(np.array([[e0guess, 0]]*k), delta)\n",
    "        if np.abs(found_eg - e_g) < tol:\n",
    "            return e0guess\n",
    "        elif found_eg > e_g:\n",
    "            u = e0guess\n",
    "        else:\n",
    "            l = e0guess\n",
    "    raise RuntimeError(f\"Ran out of iterations, final e_g was {found_eg}\")"
   ]
  },
  {
   "cell_type": "code",
   "execution_count": 639,
   "metadata": {},
   "outputs": [
    {
     "data": {
      "application/vnd.jupyter.widget-view+json": {
       "model_id": "a0c5107938944cea9b74b4d738fce58b",
       "version_major": 2,
       "version_minor": 0
      },
      "text/plain": [
       "HBox(children=(IntProgress(value=0, max=45), HTML(value='')))"
      ]
     },
     "metadata": {},
     "output_type": "display_data"
    },
    {
     "data": {
      "application/vnd.jupyter.widget-view+json": {
       "model_id": "63d7519bc4b84d72b71ca7516c1a4611",
       "version_major": 2,
       "version_minor": 0
      },
      "text/plain": [
       "HBox(children=(IntProgress(value=0, max=45), HTML(value='')))"
      ]
     },
     "metadata": {},
     "output_type": "display_data"
    },
    {
     "data": {
      "application/vnd.jupyter.widget-view+json": {
       "model_id": "8d436814c42a44ab9c79372042e208ac",
       "version_major": 2,
       "version_minor": 0
      },
      "text/plain": [
       "HBox(children=(IntProgress(value=0, max=45), HTML(value='')))"
      ]
     },
     "metadata": {},
     "output_type": "display_data"
    }
   ],
   "source": [
    "e_g = 1\n",
    "delta = 1e-9\n",
    "k_range = list(range(10, 100, 2))\n",
    "e0s_per_k = {\n",
    "    alg.__name__: np.array([\n",
    "        alg(k, e_g, delta) for k in tqdm_notebook(k_range)\n",
    "    ])\n",
    "    for alg in [basic_composition, advanced_composition, optimal_composition]\n",
    "}"
   ]
  },
  {
   "cell_type": "code",
   "execution_count": 640,
   "metadata": {},
   "outputs": [
    {
     "data": {
      "image/png": "[encoded data removed]",
      "text/plain": [
       "<Figure size 432x288 with 1 Axes>"
      ]
     },
     "metadata": {},
     "output_type": "display_data"
    }
   ],
   "source": [
    "for key, val in e0s_per_k.items():\n",
    "    plt.plot(k_range, val, label=key)\n",
    "plt.xlabel(\"k\")\n",
    "plt.ylabel(\"$e_0$ (privacy loss parameter per query)\")\n",
    "plt.legend();"
   ]
  },
  {
   "cell_type": "markdown",
   "metadata": {},
   "source": [
    "After $k>41$ or so, advanced composition improves on basic composition - and optimal composition always strictly improves on basic composition (as we'd hope from some \"optimal\")."
   ]
  },
  {
   "cell_type": "markdown",
   "metadata": {},
   "source": [
    "## (3)\n",
    "Let's write code to implement a 3-D histogram."
   ]
  },
  {
   "cell_type": "code",
   "execution_count": 641,
   "metadata": {},
   "outputs": [
    {
     "data": {
      "text/html": [
       "<div>\n",
       "<style scoped>\n",
       "    .dataframe tbody tr th:only-of-type {\n",
       "        vertical-align: middle;\n",
       "    }\n",
       "\n",
       "    .dataframe tbody tr th {\n",
       "        vertical-align: top;\n",
       "    }\n",
       "\n",
       "    .dataframe thead th {\n",
       "        text-align: right;\n",
       "    }\n",
       "</style>\n",
       "<table border=\"1\" class=\"dataframe\">\n",
       "  <thead>\n",
       "    <tr style=\"text-align: right;\">\n",
       "      <th></th>\n",
       "      <th>income</th>\n",
       "      <th>educ</th>\n",
       "      <th>age</th>\n",
       "    </tr>\n",
       "  </thead>\n",
       "  <tbody>\n",
       "    <tr>\n",
       "      <th>count</th>\n",
       "      <td>241830.000000</td>\n",
       "      <td>241830.000000</td>\n",
       "      <td>241830.000000</td>\n",
       "    </tr>\n",
       "    <tr>\n",
       "      <th>mean</th>\n",
       "      <td>33762.317041</td>\n",
       "      <td>10.363499</td>\n",
       "      <td>46.245424</td>\n",
       "    </tr>\n",
       "    <tr>\n",
       "      <th>std</th>\n",
       "      <td>45767.980716</td>\n",
       "      <td>2.957155</td>\n",
       "      <td>18.152071</td>\n",
       "    </tr>\n",
       "    <tr>\n",
       "      <th>min</th>\n",
       "      <td>-10800.000000</td>\n",
       "      <td>1.000000</td>\n",
       "      <td>18.000000</td>\n",
       "    </tr>\n",
       "    <tr>\n",
       "      <th>25%</th>\n",
       "      <td>8800.000000</td>\n",
       "      <td>9.000000</td>\n",
       "      <td>32.000000</td>\n",
       "    </tr>\n",
       "    <tr>\n",
       "      <th>50%</th>\n",
       "      <td>23000.000000</td>\n",
       "      <td>11.000000</td>\n",
       "      <td>44.000000</td>\n",
       "    </tr>\n",
       "    <tr>\n",
       "      <th>75%</th>\n",
       "      <td>42000.000000</td>\n",
       "      <td>13.000000</td>\n",
       "      <td>58.000000</td>\n",
       "    </tr>\n",
       "    <tr>\n",
       "      <th>max</th>\n",
       "      <td>832000.000000</td>\n",
       "      <td>16.000000</td>\n",
       "      <td>93.000000</td>\n",
       "    </tr>\n",
       "  </tbody>\n",
       "</table>\n",
       "</div>"
      ],
      "text/plain": [
       "              income           educ            age\n",
       "count  241830.000000  241830.000000  241830.000000\n",
       "mean    33762.317041      10.363499      46.245424\n",
       "std     45767.980716       2.957155      18.152071\n",
       "min    -10800.000000       1.000000      18.000000\n",
       "25%      8800.000000       9.000000      32.000000\n",
       "50%     23000.000000      11.000000      44.000000\n",
       "75%     42000.000000      13.000000      58.000000\n",
       "max    832000.000000      16.000000      93.000000"
      ]
     },
     "execution_count": 641,
     "metadata": {},
     "output_type": "execute_result"
    }
   ],
   "source": [
    "df = pd.read_csv(\"../data/MaPUMS5full.csv\")\n",
    "relevant_axes = ['income', 'educ', 'age']\n",
    "df = df[relevant_axes]\n",
    "log_df = df[relevant_axes].copy()\n",
    "log_df['income'] = np.log(np.clip(df['income'], a_min=1, a_max=np.Inf))\n",
    "df.describe()"
   ]
  },
  {
   "cell_type": "code",
   "execution_count": 653,
   "metadata": {},
   "outputs": [],
   "source": [
    "def true_histogram(\n",
    "    data_raw, upper, lower, nbins=[100, 100, 100]\n",
    "):\n",
    "    n, d = data_raw.shape\n",
    "    data = np.clip(data_raw, lower, upper)\n",
    "    bins = np.stack([np.linspace(lower[i], upper[i], nbins[i]+1).astype(int)\n",
    "                     for i in range(d)],\n",
    "                     axis=0)\n",
    "    \n",
    "    hist = np.zeros(nbins)\n",
    "    hist_val = np.zeros(nbins + [d])\n",
    "    i_ax = np.zeros([n, d], dtype=int)\n",
    "    for c in range(d):\n",
    "        i_ax[:, c] = np.argmin(\n",
    "            data[:, c].reshape(-1, 1) >= bins[c, 1:],\n",
    "            axis=1)\n",
    "    for idx in i_ax:\n",
    "        hist[tuple(idx.tolist())] +=1\n",
    "    ax_vals = [(bins[i, 1:] + bins[i, :-1])/2 for i in range(d)]\n",
    "    hist_vals = np.stack(np.meshgrid(*ax_vals), axis=-1)\n",
    "    return hist, hist_vals\n",
    "\n",
    "def sampler(true_hist, hist_vals, epsilon, n, no_dp=False):\n",
    "    GS = 2\n",
    "    d = hist_vals.shape[-1]\n",
    "    hist = true_hist + lap_mechanism(epsilon, GS, size=np.prod(true_hist.shape)).reshape(true_hist.shape)\n",
    "    if no_dp:\n",
    "        hist = true_hist\n",
    "    hist[hist < 0] = 0\n",
    "    probs = hist.reshape(-1)/hist.sum()\n",
    "    idxs = np.random.choice(np.prod(true_hist.shape), p=probs, size=n)\n",
    "    retvals = np.zeros((n, d))\n",
    "    hv = hist_vals.reshape(-1, d)\n",
    "    return hv[idxs, :]"
   ]
  },
  {
   "cell_type": "markdown",
   "metadata": {},
   "source": [
    "We chose $\\epsilon = 1$ and forced all the probabilities to be >= 0."
   ]
  },
  {
   "cell_type": "code",
   "execution_count": 654,
   "metadata": {},
   "outputs": [],
   "source": [
    "eps = 1"
   ]
  },
  {
   "cell_type": "code",
   "execution_count": 655,
   "metadata": {},
   "outputs": [],
   "source": [
    "data_true = log_df.values\n",
    "X_true = data_true[:, 1:]\n",
    "Y_true = data_true[:, 0]\n",
    "\n",
    "from sklearn.linear_model import LinearRegression\n",
    "lr_true = LinearRegression().fit(X_true, Y_true)\n",
    "lr_coefs_true = np.append(lr_true.coef_, lr_true.intercept_)"
   ]
  },
  {
   "cell_type": "code",
   "execution_count": 656,
   "metadata": {},
   "outputs": [
    {
     "data": {
      "application/vnd.jupyter.widget-view+json": {
       "model_id": "524c28533af84b81922bb499d91cdd0b",
       "version_major": 2,
       "version_minor": 0
      },
      "text/plain": [
       "HBox(children=(IntProgress(value=0, max=20), HTML(value='')))"
      ]
     },
     "metadata": {},
     "output_type": "display_data"
    }
   ],
   "source": [
    "true_hist, hist_vals = true_histogram(\n",
    "    data_true, [6, 16, 100], [0, 1, 0], nbins=[2, 2, 2]\n",
    ")\n",
    "samples = 20\n",
    "lr_coefs_fake = []\n",
    "for i in tqdm_notebook(range(samples)):\n",
    "    data_fake = sampler(true_hist, hist_vals, eps, n=df.shape[0])\n",
    "    X_fake = data_fake[:, 1:]\n",
    "    Y_fake = data_fake[:, 0]\n",
    "    lr = LinearRegression().fit(X_fake, Y_fake)\n",
    "    lr_coefs_fake.append(np.append(lr.coef_, lr.intercept_))\n",
    "lr_coefs_fake = np.array(lr_coefs_fake)"
   ]
  },
  {
   "cell_type": "markdown",
   "metadata": {},
   "source": [
    "It appears that something in the histogram calculation is off, but after debugging for hours, I can't find it. Even resampling from the histogram without adding DP noise generates significantly incorrect (though internally-predictable) estimates.\n",
    "\n",
    "I've run the subsequent analysis regardless, and drawn what takeaways I could."
   ]
  },
  {
   "cell_type": "code",
   "execution_count": 657,
   "metadata": {},
   "outputs": [
    {
     "name": "stdout",
     "output_type": "stream",
     "text": [
      "Estimator bias from fake data: [6.43787234e-02 5.90892594e-04 2.47173303e+00]\n",
      "Estimator variance from fake data: [1.71417375e-05 8.57304146e-09 3.39461147e-04]\n"
     ]
    }
   ],
   "source": [
    "fake_bias = (lr_coefs_fake - lr_coefs_true).mean(axis=0)**2\n",
    "fake_var = (lr_coefs_fake - lr_coefs_true).var(axis=0)\n",
    "\n",
    "print(\"Estimator bias from fake data: {}\".format(fake_bias))\n",
    "print(\"Estimator variance from fake data: {}\".format(fake_var))"
   ]
  },
  {
   "cell_type": "markdown",
   "metadata": {},
   "source": [
    "Let's compare this setup to a regression trained on subsampled data (10% of the original sample)."
   ]
  },
  {
   "cell_type": "code",
   "execution_count": 658,
   "metadata": {},
   "outputs": [
    {
     "data": {
      "application/vnd.jupyter.widget-view+json": {
       "model_id": "dd3b9ee0aefc41bfa48d83af47c0ddf6",
       "version_major": 2,
       "version_minor": 0
      },
      "text/plain": [
       "HBox(children=(IntProgress(value=0, max=20), HTML(value='')))"
      ]
     },
     "metadata": {},
     "output_type": "display_data"
    }
   ],
   "source": [
    "frac = 0.1\n",
    "n = log_df.shape[0]\n",
    "\n",
    "lr_coefs_subsamp = []\n",
    "for i in tqdm_notebook(range(samples)):\n",
    "    data_subsamp = log_df.values[np.random.choice(n, int(n*frac), replace=False), :]\n",
    "    subsampled_true_hist, hist_vals = true_histogram(\n",
    "        data_subsamp, [6, 16, 100], [0, 1, 0], nbins=[2, 2, 2]\n",
    "    )\n",
    "    data_fake = sampler(true_hist=true_hist, hist_vals=hist_vals, epsilon=1, n=log_df.shape[0], no_dp=True)\n",
    "    X_fake = data_fake[:, 1:]\n",
    "    Y_fake = data_fake[:, 0]\n",
    "    lr = LinearRegression().fit(X_fake, Y_fake)\n",
    "    lr_coefs_subsamp.append(np.append(lr.coef_, lr.intercept_))\n",
    "lr_coefs_subsamp = np.array(lr_coefs_subsamp)"
   ]
  },
  {
   "cell_type": "code",
   "execution_count": 659,
   "metadata": {},
   "outputs": [
    {
     "name": "stdout",
     "output_type": "stream",
     "text": [
      "Estimator bias from subsampled data: [6.44335693e-02 5.91795079e-04 2.46877215e+00]\n",
      "Estimator variance from subsampled data: [2.63820762e-05 7.93097233e-09 5.74859704e-04]\n"
     ]
    }
   ],
   "source": [
    "subsamp_bias = (lr_coefs_subsamp - lr_coefs_true).mean(axis=0)**2\n",
    "subsamp_var = (lr_coefs_subsamp - lr_coefs_true).var(axis=0)\n",
    "\n",
    "print(\"Estimator bias from subsampled data: {}\".format(subsamp_bias))\n",
    "print(\"Estimator variance from subsampled data: {}\".format(subsamp_var))"
   ]
  },
  {
   "cell_type": "markdown",
   "metadata": {},
   "source": [
    "So our DP regression and subsampled regression have approximately the same variance in the parameters. Because the bias appears to be so large in both (likely due to a bug in computing the histogram), it's hard to know whether in a \"correct\" implementation one would be substantially less biased than the other.\n",
    "\n",
    "It's certainly true that one way to improve the histogram would be to have some notion of perturbation locality - that is, right now, a switch between two adjacent buckets is treated as equally likely to a switch between two buckets that differ maximally on every feature."
   ]
  },
  {
   "cell_type": "code",
   "execution_count": null,
   "metadata": {},
   "outputs": [],
   "source": []
  }
 ],
 "metadata": {
  "kernelspec": {
   "display_name": "Python 3",
   "language": "python",
   "name": "python3"
  },
  "language_info": {
   "codemirror_mode": {
    "name": "ipython",
    "version": 3
   },
   "file_extension": ".py",
   "mimetype": "text/x-python",
   "name": "python",
   "nbconvert_exporter": "python",
   "pygments_lexer": "ipython3",
   "version": "3.6.6"
  }
 },
 "nbformat": 4,
 "nbformat_minor": 2
}
