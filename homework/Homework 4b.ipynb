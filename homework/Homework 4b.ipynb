{
 "cells": [
  {
   "cell_type": "markdown",
   "metadata": {},
   "source": [
    "# Homework 4b Submission\n",
    "## Yonadav Shavit"
   ]
  },
  {
   "cell_type": "code",
   "execution_count": 2,
   "metadata": {},
   "outputs": [
    {
     "name": "stdout",
     "output_type": "stream",
     "text": [
      "The autoreload extension is already loaded. To reload it, use:\n",
      "  %reload_ext autoreload\n"
     ]
    }
   ],
   "source": [
    "%load_ext autoreload\n",
    "%autoreload 2\n",
    "import numpy as np\n",
    "from scipy.special import factorial\n",
    "import pandas as pd\n",
    "import matplotlib.pyplot as plt\n",
    "from tqdm import tqdm_notebook"
   ]
  },
  {
   "cell_type": "markdown",
   "metadata": {},
   "source": [
    "## 1.\n",
    "### (a)\n",
    "#### i.\n",
    "$GS_f = \\infty$ because the sensitivity is unbounded and so a single point can arbitrarily change the mean.\n",
    "#### ii.\n",
    "$\\min _{x \\in \\mathcal{S}} \\operatorname{LS}_{f}(x) = \\infty$ for the same reasons as above - regardless of any of the other points (i.e. $x$ s.t. we get minimum local sensitivity), a single additional point can arbitrarily change the resulting mean. (For example, to increase the mean by $k$, the new point should be $\\mu_{old} + nk$.)\n",
    "#### iii.\n",
    "$\\mathrm{RS}_{f}^{\\mathcal{H}} = \\frac{b-a}{n}$ because a single point can change only by $b-a$ while remaining in $H$, and so the average can only change by that divided by $n$.\n",
    "#### iv.\n",
    "We can construct an explicit Lipschitz extension by simply clipping each point to $[a, b]$ and then taking the mean and adding Laplace noise with sensitivity $\\frac{b-a}{n\\epsilon}$. This will be increasingly biased as the original data is farther from $[a, b]$, but the sensitivity will remain the same, and on $H$ this agrees with $f$."
   ]
  },
  {
   "cell_type": "markdown",
   "metadata": {},
   "source": [
    "### (b)\n",
    "#### i.\n",
    "$GS_f = \\infty$ because, for any large $N$, we can construct a dataset with $\\frac{n}{2}$ data points at $0$, and $\\frac{n}{2}$ datapoints at $N$, and then shifting a single point from $0$ to $N$ shifts the median by $N$, for any arbitrary $N$.\n",
    "#### ii.\n",
    "$\\min _{x \\in \\mathcal{S}} \\operatorname{LS}_{f}(x) = 0$ because if we create a dataset with $3$ points at $0$, no matter how much we change any single point, the other two will still be $0$ and so the median will be unchanged.\n",
    "#### iii.\n",
    "$\\mathrm{RS}_{f}^{\\mathcal{H}} = b-a$ because every point must fall in $[a, b]$, and so the largest possible change in median would be from $a$ to $b$. (This example is possible if half the points minus 1 are at $a$, and the other half are at $b$, and then we move one from $b$ to $a$)."
   ]
  },
  {
   "cell_type": "markdown",
   "metadata": {},
   "source": [
    "### (c)\n",
    "#### i.\n",
    "$GS_f = n-1$ because if every node was previously disconnected (meaning the value was $n-1$) we can connect a new node to every old node, meaning that now $0$ nodes are disconnected.\n",
    "#### ii.\n",
    "$\\min _{x \\in \\mathcal{S}} \\operatorname{LS}_{f}(x) = 1$ because if every node in the graph is already connected, the addition of a new node cannot disconnect any existing nodes. The most it can do is add a node with no edges. (Note that our definition of node sensitivity in this case is a little weird, because if we're talking about deleting nodes rather than adding, the minimum local sensitivity is actually $0$, if all edges exist between all nodes.)\n",
    "#### iii.\n",
    "$\\mathrm{RS}_{f}^{\\mathcal{H}} = d$ because the greatest change from adding a single node would be that all existing nodes are unconnected, and then a single new node is added that connects to $d$ other nodes. \n",
    "(It can't connect to more than that because it must be in $H$). \n",
    "Thus the query can only decrease by $d$."
   ]
  },
  {
   "cell_type": "markdown",
   "metadata": {},
   "source": [
    "## 2."
   ]
  },
  {
   "cell_type": "markdown",
   "metadata": {},
   "source": [
    "Below is the R code, reproduced. I'm porting it into Python."
   ]
  },
  {
   "cell_type": "code",
   "execution_count": 16,
   "metadata": {},
   "outputs": [],
   "source": [
    "def nll(w, b, x, y):\n",
    "    pi = 1/(1 + np.exp(-b - w*x.reshape(-1)))\n",
    "    llik = y*np.log(pi + 1e-9) + (1-y)*np.log(1e-9 + 1-pi)\n",
    "    return - llik"
   ]
  },
  {
   "cell_type": "code",
   "execution_count": 96,
   "metadata": {},
   "outputs": [],
   "source": [
    "def gaussianReleaseNoise(sensitivity, epsilon, delta, size=1):\n",
    "    scale = sensitivity*np.sqrt(2*np.log(1.25/delta))/epsilon\n",
    "    noise = np.random.normal(scale=scale, size=size)\n",
    "    return noise"
   ]
  },
  {
   "cell_type": "code",
   "execution_count": 147,
   "metadata": {},
   "outputs": [
    {
     "name": "stderr",
     "output_type": "stream",
     "text": [
      "/home/yonadav/anaconda3/envs/tensorflow/lib/python3.7/site-packages/sklearn/linear_model/logistic.py:433: FutureWarning: Default solver will be changed to 'lbfgs' in 0.22. Specify a solver to silence this warning.\n",
      "  FutureWarning)\n"
     ]
    },
    {
     "name": "stdout",
     "output_type": "stream",
     "text": [
      "slope = [0.07828201], bias = [-0.61997557]\n",
      "likelihood = 0.6821270958807131\n"
     ]
    }
   ],
   "source": [
    "PUMSdata = pd.read_csv(\"../data/MaPUMS5full.csv\")\n",
    "Xpums = (PUMSdata['educ'].values).reshape(-1, 1)\n",
    "Ypums = PUMSdata['married'].values\n",
    "from sklearn.linear_model import LogisticRegression\n",
    "\n",
    "import warnings\n",
    "warnings.simplefilter(\"default\")\n",
    "lr = LogisticRegression(C=10000).fit(Xpums, Ypums)\n",
    "\n",
    "print(f\"slope = {lr.coef_[0]}, bias = {lr.intercept_}\")\n",
    "print(f\"likelihood = {nll(lr.coef_[0], lr.intercept_, Xpums, Ypums).mean()}\")\n",
    "w_true = lr.coef_[0][0]\n",
    "b_true = lr.intercept_[0]"
   ]
  },
  {
   "cell_type": "code",
   "execution_count": 148,
   "metadata": {},
   "outputs": [],
   "source": [
    "def calc_clipped_gradient(X, Y, C, w, b, fun=nll):\n",
    "    dx = 1e-4\n",
    "    out1 = fun(w     , b     , X, Y)\n",
    "    out2 = fun(w     , b + dx, X, Y)\n",
    "    out3 = fun(w + dx, b     , X, Y)\n",
    "    dw = (out3 - out1)/dx\n",
    "    db = (out2 - out1)/dx\n",
    "    dw = np.clip(dw, -C, C)\n",
    "    db = np.clip(db, -C, C)\n",
    "    return dw, db"
   ]
  },
  {
   "cell_type": "code",
   "execution_count": 188,
   "metadata": {},
   "outputs": [],
   "source": [
    "def learn_private_regression(epsilon, X_, Y_, delta=1e-6):\n",
    "    n = Y_.shape[0]\n",
    "    batchsize = int(np.sqrt(n))\n",
    "    steps = int(np.sqrt(n))\n",
    "\n",
    "    idxs = np.random.permutation(n)\n",
    "    X = X_[idxs, :]\n",
    "    Y = Y_[idxs]\n",
    "\n",
    "    w = 0; b = 0         # starting parameters\n",
    "    C = 10               # clipping parameter\n",
    "    nu_w, nu_b = .0001, .0001  # learning rates\n",
    "\n",
    "    w_history = [w]\n",
    "    b_history = [b]\n",
    "    \n",
    "    for i in range(steps):\n",
    "        batch_start = i*batchsize\n",
    "        batch_end = min((i + 1)*batchsize, n)\n",
    "        Xbatch = X[batch_start:batch_end, :]\n",
    "        Ybatch = Y[batch_start:batch_end]\n",
    "        dw_clipped, db_clipped = calc_clipped_gradient(Xbatch, Ybatch, C, w, b, fun=nll)\n",
    "        dw_private = dw_clipped + gaussianReleaseNoise(\n",
    "            sensitivity=2*C, # one sample can shift from -C to C, so double sensitivity\n",
    "            epsilon=epsilon/(2*(batchsize*steps)/n), # two parameters released, so halve the epsilon for each\n",
    "            delta=delta,\n",
    "            size=batchsize,\n",
    "        )\n",
    "        db_private = db_clipped  + gaussianReleaseNoise(\n",
    "            sensitivity=2*C, # one sample can shift from -C to C, so double sensitivity\n",
    "            # for each row (constituting its own dataset) we have batchsize*steps/n queries, so spread epsilon\n",
    "            # for that mini-dataset evenly over queries\n",
    "            # two parameters released, so halve the epsilon for each\n",
    "            epsilon=epsilon/(2*(batchsize*steps)/n), \n",
    "            delta=delta,\n",
    "            size=batchsize,\n",
    "        )\n",
    "    \n",
    "        dw_private = dw_private.mean(axis=0)\n",
    "        db_private = db_private.mean(axis=0)\n",
    "        # update via calculated gradients\n",
    "        w -= nu_w*dw_private\n",
    "        b -= nu_b*db_private\n",
    "        w_history.append(w)\n",
    "        b_history.append(b)\n",
    "        if False:\n",
    "            print(f\"w: {w}, b:{b}\")\n",
    "            print(f\"Likelihood: {nll(w, b, X, Y).mean()}\")\n",
    "    return w_history, b_history"
   ]
  },
  {
   "cell_type": "code",
   "execution_count": 212,
   "metadata": {},
   "outputs": [
    {
     "name": "stdout",
     "output_type": "stream",
     "text": [
      "w_final: -0.0906537763390688, b_final:0.10519959855920695\n",
      "Likelihood: 0.8401312585551419\n"
     ]
    }
   ],
   "source": [
    "X, Y = Xpums, Ypums\n",
    "w_history, b_history = learn_private_regression(.1, X, Y)\n",
    "w_final, b_final = w_history[-1], b_history[-1]\n",
    "print(f\"w_final: {w_final}, b_final:{b_final}\")\n",
    "print(f\"Likelihood: {nll(w_final, b_final, X, Y).mean()}\")"
   ]
  },
  {
   "cell_type": "code",
   "execution_count": 213,
   "metadata": {},
   "outputs": [],
   "source": [
    "def accuracy(w, b, X, Y):\n",
    "    Yhat = 1/(1 + np.exp(-b -w*X.reshape(-1)))\n",
    "    Yhat = Yhat > 0.5\n",
    "    return (Yhat == Y).mean()"
   ]
  },
  {
   "cell_type": "code",
   "execution_count": 246,
   "metadata": {},
   "outputs": [
    {
     "data": {
      "application/vnd.jupyter.widget-view+json": {
       "model_id": "68847904c5f445dd9500a6ea9a070842",
       "version_major": 2,
       "version_minor": 0
      },
      "text/plain": [
       "HBox(children=(IntProgress(value=0, max=20), HTML(value='')))"
      ]
     },
     "metadata": {},
     "output_type": "display_data"
    }
   ],
   "source": [
    "X, Y = Xpums, Ypums\n",
    "trials = 100\n",
    "learned_ws = []\n",
    "learned_bs = []\n",
    "mean_accs = []\n",
    "epsilons = np.logspace(-3, 1, 20)\n",
    "for eps in tqdm_notebook(epsilons):\n",
    "    ws = []\n",
    "    bs = []\n",
    "    accs = 0\n",
    "    for t in range(trials):\n",
    "        wh, bh = learn_private_regression(eps, X, Y)\n",
    "        ws.append(wh[-1])\n",
    "        bs.append(bh[-1])\n",
    "        accs += accuracy(wh[-1], bh[-1], X, Y)\n",
    "    mean_accs.append(accs/trials)\n",
    "    learned_ws.append(ws)\n",
    "    learned_bs.append(bs)"
   ]
  },
  {
   "cell_type": "code",
   "execution_count": 248,
   "metadata": {},
   "outputs": [
    {
     "data": {
      "text/plain": [
       "Text(0.5, 0, 'epsilon')"
      ]
     },
     "execution_count": 248,
     "metadata": {},
     "output_type": "execute_result"
    },
    {
     "data": {
      "image/png": "[encoded data removed]",
      "text/plain": [
       "<Figure size 1008x288 with 3 Axes>"
      ]
     },
     "metadata": {
      "needs_background": "light"
     },
     "output_type": "display_data"
    }
   ],
   "source": [
    "plt.figure(figsize=(14, 4))\n",
    "plt.subplot(1, 3, 1)\n",
    "plt.title(\"accuracy\")\n",
    "plt.plot(epsilons, mean_accs)\n",
    "plt.plot(epsilons, np.ones(epsilons.shape)*accuracy(w_true, b_true, X, Y))\n",
    "plt.xlabel(\"epsilon\")\n",
    "plt.xscale(\"log\")\n",
    "\n",
    "plt.subplot(1, 3, 3)\n",
    "plt.title(\"parameter RMSE\")\n",
    "w_rmses = [np.sqrt(((w_true - np.array(lws))**2).mean(axis=0)) for lws in learned_ws]\n",
    "b_rmses = [np.sqrt(((b_true - np.array(lbs))**2).mean(axis=0)) for lbs in learned_bs]\n",
    "plt.plot(epsilons, w_rmses, label=\"w rmse\")\n",
    "plt.plot(epsilons, b_rmses, label=\"b rmse\")\n",
    "plt.xscale(\"log\")\n",
    "plt.legend()\n",
    "plt.xlabel(\"epsilon\")\n",
    "\n",
    "plt.subplot(1, 3, 2)\n",
    "plt.title(\"neg log likelihood\")\n",
    "liks = [np.mean([nll(ws[i], bs[i], X, Y) for i in range(trials)]) for ws, bs in zip(learned_ws, learned_bs)]\n",
    "plt.plot(epsilons, liks)\n",
    "plt.xscale(\"log\")\n",
    "plt.xlabel(\"epsilon\")"
   ]
  },
  {
   "cell_type": "markdown",
   "metadata": {},
   "source": [
    "As epsilon increases, as we might expect, the accuracy, loss, and learned parameters converge to the true learned parameters."
   ]
  }
 ],
 "metadata": {
  "kernelspec": {
   "display_name": "Python 3",
   "language": "python",
   "name": "python3"
  },
  "language_info": {
   "codemirror_mode": {
    "name": "ipython",
    "version": 3
   },
   "file_extension": ".py",
   "mimetype": "text/x-python",
   "name": "python",
   "nbconvert_exporter": "python",
   "pygments_lexer": "ipython3",
   "version": "3.7.3"
  }
 },
 "nbformat": 4,
 "nbformat_minor": 2
}
