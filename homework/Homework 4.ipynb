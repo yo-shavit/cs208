{
 "cells": [
  {
   "cell_type": "markdown",
   "metadata": {},
   "source": [
    "# Homework 4 Submission\n",
    "## Yonadav Shavit"
   ]
  },
  {
   "cell_type": "code",
   "execution_count": 1,
   "metadata": {},
   "outputs": [],
   "source": [
    "%load_ext autoreload\n",
    "%autoreload 2\n",
    "import numpy as np\n",
    "from scipy.special import factorial\n",
    "import pandas as pd\n",
    "import matplotlib.pyplot as plt\n",
    "from tqdm import tqdm_notebook"
   ]
  },
  {
   "cell_type": "markdown",
   "metadata": {},
   "source": [
    "(Let's define some latex commands)\n",
    " \n",
    "$\\newcommand{\\floor}[1]{\\left \\lfloor #1 \\right \\rfloor}$\n",
    "$\\newcommand{\\clamp}[1]{\\left [ #1 \\right ]}$\n",
    "$\\newcommand{\\lap}[1]{Lap\\left ( #1 \\right )}$\n",
    "$\\newcommand{\\lapcdf}[2]{LapCDF\\left ( #1, [-\\inf, #2] \\right )}$\n",
    "$\\newcommand{\\lappdf}[2]{LapPDF\\left ( #1, |_{#2} \\right )}$\n",
    "$\\newcommand{\\lapcdffull}[2]{\\frac{1}{2} + \\frac{1}{2}sgn\\left({#2}\\right)\\left ( 1 - \\exp{\\left ( - \\frac{|#2|}{#1} \\right ) }\\right )}$\n",
    "$\\newcommand{\\lappdffull}[2]{\\frac{1}{2 #1} \\exp{\\left ( - \\frac{#2}{#1}\\right ) }}$"
   ]
  },
  {
   "cell_type": "markdown",
   "metadata": {},
   "source": [
    "## Problem 1"
   ]
  },
  {
   "cell_type": "markdown",
   "metadata": {},
   "source": [
    "### (a)"
   ]
  },
  {
   "cell_type": "markdown",
   "metadata": {},
   "source": [
    "We'll be implementing two different mechanisms, both of which rely on an estimation of $p_j$.\n",
    "\n",
    "In the local DP case, we'll compute $I(x[j] = 0 \\land y = 1)$, and then return that value (or its conjugate) with probability $\\frac{e^\\epsilon}{1 + e^\\epsilon}$, and then scale that up by a factor of $c_\\epsilon = \\frac{e^\\epsilon + 1}{e^\\epsilon - 1}$.\n",
    "\n",
    "In the centralized DP case, we'll compute $\\frac{1}{n}\\sum_{i = 0}^n{I(x_i[j] = 0 \\land y_i = 1)}$, and then add Laplace noise of magnitude $\\frac{1}{n\\epsilon}$."
   ]
  },
  {
   "cell_type": "code",
   "execution_count": 3,
   "metadata": {},
   "outputs": [
    {
     "data": {
      "text/html": [
       "<div>\n",
       "<style scoped>\n",
       "    .dataframe tbody tr th:only-of-type {\n",
       "        vertical-align: middle;\n",
       "    }\n",
       "\n",
       "    .dataframe tbody tr th {\n",
       "        vertical-align: top;\n",
       "    }\n",
       "\n",
       "    .dataframe thead th {\n",
       "        text-align: right;\n",
       "    }\n",
       "</style>\n",
       "<table border=\"1\" class=\"dataframe\">\n",
       "  <thead>\n",
       "    <tr style=\"text-align: right;\">\n",
       "      <th></th>\n",
       "      <th>x1</th>\n",
       "      <th>x2</th>\n",
       "      <th>x3</th>\n",
       "      <th>x4</th>\n",
       "      <th>x5</th>\n",
       "      <th>x6</th>\n",
       "      <th>x7</th>\n",
       "      <th>x8</th>\n",
       "      <th>x9</th>\n",
       "      <th>x10</th>\n",
       "      <th>y</th>\n",
       "    </tr>\n",
       "  </thead>\n",
       "  <tbody>\n",
       "    <tr>\n",
       "      <th>count</th>\n",
       "      <td>100000.000000</td>\n",
       "      <td>100000.00000</td>\n",
       "      <td>100000.000000</td>\n",
       "      <td>100000.000000</td>\n",
       "      <td>100000.000000</td>\n",
       "      <td>100000.000000</td>\n",
       "      <td>100000.00000</td>\n",
       "      <td>100000.000000</td>\n",
       "      <td>100000.000000</td>\n",
       "      <td>100000.000000</td>\n",
       "      <td>100000.000000</td>\n",
       "    </tr>\n",
       "    <tr>\n",
       "      <th>mean</th>\n",
       "      <td>0.498210</td>\n",
       "      <td>0.50142</td>\n",
       "      <td>0.497110</td>\n",
       "      <td>0.498860</td>\n",
       "      <td>0.501840</td>\n",
       "      <td>0.500550</td>\n",
       "      <td>0.50161</td>\n",
       "      <td>0.499490</td>\n",
       "      <td>0.499700</td>\n",
       "      <td>0.501790</td>\n",
       "      <td>0.122850</td>\n",
       "    </tr>\n",
       "    <tr>\n",
       "      <th>std</th>\n",
       "      <td>0.499999</td>\n",
       "      <td>0.50000</td>\n",
       "      <td>0.499994</td>\n",
       "      <td>0.500001</td>\n",
       "      <td>0.499999</td>\n",
       "      <td>0.500002</td>\n",
       "      <td>0.50000</td>\n",
       "      <td>0.500002</td>\n",
       "      <td>0.500002</td>\n",
       "      <td>0.499999</td>\n",
       "      <td>0.328267</td>\n",
       "    </tr>\n",
       "    <tr>\n",
       "      <th>min</th>\n",
       "      <td>0.000000</td>\n",
       "      <td>0.00000</td>\n",
       "      <td>0.000000</td>\n",
       "      <td>0.000000</td>\n",
       "      <td>0.000000</td>\n",
       "      <td>0.000000</td>\n",
       "      <td>0.00000</td>\n",
       "      <td>0.000000</td>\n",
       "      <td>0.000000</td>\n",
       "      <td>0.000000</td>\n",
       "      <td>0.000000</td>\n",
       "    </tr>\n",
       "    <tr>\n",
       "      <th>25%</th>\n",
       "      <td>0.000000</td>\n",
       "      <td>0.00000</td>\n",
       "      <td>0.000000</td>\n",
       "      <td>0.000000</td>\n",
       "      <td>0.000000</td>\n",
       "      <td>0.000000</td>\n",
       "      <td>0.00000</td>\n",
       "      <td>0.000000</td>\n",
       "      <td>0.000000</td>\n",
       "      <td>0.000000</td>\n",
       "      <td>0.000000</td>\n",
       "    </tr>\n",
       "    <tr>\n",
       "      <th>50%</th>\n",
       "      <td>0.000000</td>\n",
       "      <td>1.00000</td>\n",
       "      <td>0.000000</td>\n",
       "      <td>0.000000</td>\n",
       "      <td>1.000000</td>\n",
       "      <td>1.000000</td>\n",
       "      <td>1.00000</td>\n",
       "      <td>0.000000</td>\n",
       "      <td>0.000000</td>\n",
       "      <td>1.000000</td>\n",
       "      <td>0.000000</td>\n",
       "    </tr>\n",
       "    <tr>\n",
       "      <th>75%</th>\n",
       "      <td>1.000000</td>\n",
       "      <td>1.00000</td>\n",
       "      <td>1.000000</td>\n",
       "      <td>1.000000</td>\n",
       "      <td>1.000000</td>\n",
       "      <td>1.000000</td>\n",
       "      <td>1.00000</td>\n",
       "      <td>1.000000</td>\n",
       "      <td>1.000000</td>\n",
       "      <td>1.000000</td>\n",
       "      <td>0.000000</td>\n",
       "    </tr>\n",
       "    <tr>\n",
       "      <th>max</th>\n",
       "      <td>1.000000</td>\n",
       "      <td>1.00000</td>\n",
       "      <td>1.000000</td>\n",
       "      <td>1.000000</td>\n",
       "      <td>1.000000</td>\n",
       "      <td>1.000000</td>\n",
       "      <td>1.00000</td>\n",
       "      <td>1.000000</td>\n",
       "      <td>1.000000</td>\n",
       "      <td>1.000000</td>\n",
       "      <td>1.000000</td>\n",
       "    </tr>\n",
       "  </tbody>\n",
       "</table>\n",
       "</div>"
      ],
      "text/plain": [
       "                  x1            x2             x3             x4  \\\n",
       "count  100000.000000  100000.00000  100000.000000  100000.000000   \n",
       "mean        0.498210       0.50142       0.497110       0.498860   \n",
       "std         0.499999       0.50000       0.499994       0.500001   \n",
       "min         0.000000       0.00000       0.000000       0.000000   \n",
       "25%         0.000000       0.00000       0.000000       0.000000   \n",
       "50%         0.000000       1.00000       0.000000       0.000000   \n",
       "75%         1.000000       1.00000       1.000000       1.000000   \n",
       "max         1.000000       1.00000       1.000000       1.000000   \n",
       "\n",
       "                  x5             x6            x7             x8  \\\n",
       "count  100000.000000  100000.000000  100000.00000  100000.000000   \n",
       "mean        0.501840       0.500550       0.50161       0.499490   \n",
       "std         0.499999       0.500002       0.50000       0.500002   \n",
       "min         0.000000       0.000000       0.00000       0.000000   \n",
       "25%         0.000000       0.000000       0.00000       0.000000   \n",
       "50%         1.000000       1.000000       1.00000       0.000000   \n",
       "75%         1.000000       1.000000       1.00000       1.000000   \n",
       "max         1.000000       1.000000       1.00000       1.000000   \n",
       "\n",
       "                  x9            x10              y  \n",
       "count  100000.000000  100000.000000  100000.000000  \n",
       "mean        0.499700       0.501790       0.122850  \n",
       "std         0.500002       0.499999       0.328267  \n",
       "min         0.000000       0.000000       0.000000  \n",
       "25%         0.000000       0.000000       0.000000  \n",
       "50%         0.000000       1.000000       0.000000  \n",
       "75%         1.000000       1.000000       0.000000  \n",
       "max         1.000000       1.000000       1.000000  "
      ]
     },
     "execution_count": 3,
     "metadata": {},
     "output_type": "execute_result"
    }
   ],
   "source": [
    "df = pd.read_csv(\"../data/hw4testdata.csv\")"
   ]
  },
  {
   "cell_type": "code",
   "execution_count": null,
   "metadata": {},
   "outputs": [],
   "source": [
    "def local_pj(Xj, Y, epsilon, t):\n",
    "    n = Xj.shape[0]\n",
    "    eeps = e**epsilon\n",
    "    correct_vals = Xj == Y\n",
    "    randomize = np.random.binomial(1, eeps/(1+eeps), size=n).astype(bool)\n",
    "    randomized_vals = np.logical_xor(randomize, correct_vals)\n",
    "    c_e = (eeps + 1)/(eeps - 1)\n",
    "    return c_e*randomized_vals.mean()"
   ]
  },
  {
   "cell_type": "code",
   "execution_count": 3,
   "metadata": {},
   "outputs": [],
   "source": [
    "def lap_mechanism(epsilon, GS_q, size=None):\n",
    "    return np.random.laplace(scale=GS_q/epsilon, size=size)\n",
    "\n",
    "def dp_mean(x, epsilon, b, a=0):\n",
    "    x_clipped = np.clip(x, a, b)\n",
    "    GS_q = np.abs(b-a)/x.shape[0]\n",
    "    return x_clipped.mean() + lap_mechanism(epsilon, GS_q)\n",
    "\n",
    "def trimmed_mean(x, epsilon, D, upper=0.95, lower=0.05):\n",
    "    n = x.shape[0]\n",
    "    x_sorted = np.sort(x)\n",
    "    x_trimmed = x_sorted[int(n*lower):int(n*upper)]\n",
    "    GS_q = D/(0.9*n)\n",
    "    return (1/((upper - lower)*n))*np.sum(x_trimmed) + lap_mechanism(epsilon, GS_q)"
   ]
  },
  {
   "cell_type": "markdown",
   "metadata": {},
   "source": [
    "## (b)\n",
    "The winsorized mean is not $\\epsilon$-DP because the global sensitivity can, in certain cases, be much greater than $\\frac{D}{n}$.\n",
    "\n",
    "Say we have a dataset where the bottom 95.00...01% are $0$s and the top 4.99...% are $D$s (such that $P_{0.95} = 0$).\n",
    "Now, we switch a single $0$ to $D$, and suddenly $P_{0.95} = D$. This means that the overall mean calculation changes by $\\frac{D \\times 0.05n}{n} = .05D$.\n",
    "If $\\frac{D}{n} = GS_q < .05D$, i.e. $n>20$, this violates $\\epsilon$-DP."
   ]
  },
  {
   "cell_type": "markdown",
   "metadata": {},
   "source": [
    "## (c)\n",
    "The utility function for the exponential mechanism for $p_t$ would be:\n",
    "$$ u_t(x, y) = \\min \\{ \\frac{100-t}{100} \\left(\\#\\{ i: x_i \\leq y\\}\\right), \\frac{t}{100}\\left(\\#\\{ i: x_i \\geq y\\}\\right)\\}$$"
   ]
  },
  {
   "cell_type": "code",
   "execution_count": 926,
   "metadata": {},
   "outputs": [],
   "source": [
    "def pct_dp(x, t, epsilon):\n",
    "    x = np.sort(x)\n",
    "    n = x.shape[0]\n",
    "    uniq_vals, uniq_poss = np.unique(x, return_index=True)\n",
    "    n_uniq = uniq_vals.shape[0]\n",
    "    if n_uniq == 1:\n",
    "        return uniq_vals[0]\n",
    "    u1 = np.zeros(n_uniq)\n",
    "    u2 = np.zeros(n_uniq)\n",
    "    w = np.zeros(n_uniq)\n",
    "#     print(x)\n",
    "    for i in range(n_uniq):\n",
    "        lower = uniq_poss[i+1] - 1 if i != n_uniq - 1 else n # everything up to the next value\n",
    "        upper = n - uniq_poss[i] # everything from the current value and up\n",
    "        u1[i] = (100-t)/100*lower\n",
    "        u2[i] = t/100*upper\n",
    "        w[i] = ((uniq_poss[i+1] if i != n_uniq-1 else n) - uniq_poss[i])/n\n",
    "    u = np.minimum(u1, u2)\n",
    "    exp_u = np.exp(epsilon*u)\n",
    "    p_raw = w*exp_u\n",
    "    p = p_raw/np.sum(p_raw)\n",
    "#     print(f\"u:{u}\\n exp_u:{exp_u}\\n p_raw:{p_raw}\\n p:{p}\")\n",
    "    return np.random.choice(uniq_vals, p=p)"
   ]
  },
  {
   "cell_type": "markdown",
   "metadata": {},
   "source": [
    "## (d)"
   ]
  },
  {
   "cell_type": "code",
   "execution_count": 927,
   "metadata": {},
   "outputs": [],
   "source": [
    "def trimmed_mean_dp_bounds(x, epsilon, b):\n",
    "    n = x.shape[0]\n",
    "    x = np.sort(x)\n",
    "    p05 = pct_dp(x, 5, epsilon/3)\n",
    "    p05_ind = np.argmax((x==p05))\n",
    "    p95 = pct_dp(x, 95, epsilon/3)\n",
    "    p95_ind = np.argmax(x==p95)\n",
    "    x_trimmed = x[p05_ind:p95_ind+1]\n",
    "    GS_q = (p95 - p05)/(0.9*n)\n",
    "    return (1/(0.9*n))*np.sum(x_trimmed) + lap_mechanism(epsilon/3, GS_q)"
   ]
  },
  {
   "cell_type": "code",
   "execution_count": 986,
   "metadata": {},
   "outputs": [
    {
     "name": "stdout",
     "output_type": "stream",
     "text": [
      "0.7303791683714363\n"
     ]
    }
   ],
   "source": [
    "x = np.random.random(size=1000)\n",
    "epsilon = 1\n",
    "print(pct_dp(x, 95, epsilon/3))\n",
    "# print(trimmed_mean_dp_bounds(x, epsilon, 1))"
   ]
  },
  {
   "cell_type": "markdown",
   "metadata": {},
   "source": [
    "## (e)\n",
    "This method actually seems to be differentially private, because a single input changing can no longer guaranteedly change the winsorization boundaries ($p_{.95}$ or $p_{.05}$).\n",
    "If a single element cannot substantially change the boundaries, then by that same logic it should have little impact on the $\\frac{n}{20}$ elements clamped to that value. Instead, its impact will primarily be felt as a single element change in the sum, which has bounded sensitivity $\\frac{P_{95} - P_{05}}{n}$.\n"
   ]
  },
  {
   "cell_type": "markdown",
   "metadata": {},
   "source": [
    "## (f)\n"
   ]
  },
  {
   "cell_type": "code",
   "execution_count": 878,
   "metadata": {},
   "outputs": [],
   "source": [
    "df = pd.read_csv(\"../data/MaPUMS5full.csv\")\n",
    "df.describe()\n",
    "puma_block_incomes = {puma_:df.income[df.puma == puma_].values for puma_ in df.puma.unique()}"
   ]
  },
  {
   "cell_type": "code",
   "execution_count": 879,
   "metadata": {},
   "outputs": [
    {
     "data": {
      "application/vnd.jupyter.widget-view+json": {
       "model_id": "e312df17e1ec4975810d1241a96bcc9e",
       "version_major": 2,
       "version_minor": 0
      },
      "text/plain": [
       "HBox(children=(IntProgress(value=0, max=52), HTML(value='')))"
      ]
     },
     "metadata": {},
     "output_type": "display_data"
    }
   ],
   "source": [
    "D = 1e6\n",
    "eps = 1\n",
    "trials = 100\n",
    "mean_types = [\"normal\", \"trimmed\", \"true\"]\n",
    "mean_algs = {\n",
    "    \"true\": lambda x, epsilon, b: np.mean(x),\n",
    "    \"normal\": dp_mean,\n",
    "    \"trimmed\": trimmed_mean_dp_bounds,\n",
    "}\n",
    "pumas = list(df.puma.unique())\n",
    "puma_means = {t:{} for t in mean_types}\n",
    "for puma_, puma_block in tqdm_notebook(puma_block_incomes.items()):\n",
    "    x = np.sort(puma_block)\n",
    "    for t in mean_types:\n",
    "        ms = [mean_algs[t](x=x, epsilon=eps, b=D) for _ in range(trials)]\n",
    "        puma_means[t][puma_] = ms"
   ]
  },
  {
   "cell_type": "code",
   "execution_count": 880,
   "metadata": {},
   "outputs": [],
   "source": [
    "puma_by_mean = [(puma_means[\"true\"][puma_][0], puma_) for puma_ in pumas]\n",
    "pumas_sorted = [p[1] for p in sorted(puma_by_mean)]"
   ]
  },
  {
   "cell_type": "code",
   "execution_count": 881,
   "metadata": {},
   "outputs": [],
   "source": [
    "results_df = pd.DataFrame(columns=['type_', 'puma_', 'mean'])\n",
    "for type_ in [\"normal\", \"trimmed\", \"true\"]:\n",
    "# for type_ in [\"normal\"]:\n",
    "#     for puma_ in pumas_sorted:\n",
    "    for i, puma_ in enumerate(pumas_sorted[:20]):\n",
    "        results_df = results_df.append(\n",
    "            pd.DataFrame(\n",
    "                np.stack([np.array([type_]*trials),\n",
    "                          np.array([i]*trials),\n",
    "                          puma_means[type_][puma_]],\n",
    "                         axis=-1\n",
    "                        ),\n",
    "                columns=['type_', 'puma_', 'mean']),\n",
    "        ) \n",
    "results_df = results_df.astype({\n",
    "    'type_': str,\n",
    "    'puma_': int,\n",
    "    'mean': float,\n",
    "})"
   ]
  },
  {
   "cell_type": "code",
   "execution_count": 882,
   "metadata": {},
   "outputs": [
    {
     "data": {
      "text/plain": [
       "<matplotlib.axes._subplots.AxesSubplot at 0x7fcde86d66a0>"
      ]
     },
     "execution_count": 882,
     "metadata": {},
     "output_type": "execute_result"
    },
    {
     "data": {
      "image/png": "[encoded data removed]",
      "text/plain": [
       "<Figure size 1440x720 with 1 Axes>"
      ]
     },
     "metadata": {},
     "output_type": "display_data"
    }
   ],
   "source": [
    "import seaborn as sns\n",
    "fig = plt.figure(figsize=(20,10))\n",
    "sns.boxplot(data=results_df,\n",
    "            hue='type_', x='puma_', y='mean',\n",
    "           )"
   ]
  },
  {
   "cell_type": "code",
   "execution_count": 49,
   "metadata": {},
   "outputs": [],
   "source": [
    "\n",
    "\n",
    "def poisson_pdf(k):\n",
    "    return 10**k*np.exp(-10)/factorial(k)\n",
    "\n",
    "poisson_cdf_table = [poisson_pdf(0)] # seed it with the 0-th element\n",
    "def poisson_cdf(k):\n",
    "    k_computed = len(poisson_cdf_table) - 1\n",
    "    if k <= k_computed:\n",
    "        return poisson_cdf_table[k]\n",
    "    else:\n",
    "        sum_so_far = poisson_cdf_table[-1]\n",
    "        for i in range(k_computed + 1, k + 1):\n",
    "            pdf_i = poisson_pdf(i)\n",
    "            sum_so_far += pdf_i\n",
    "            poisson_cdf_table.append(sum_so_far)\n",
    "        return sum_so_far\n",
    "\n",
    "def poisson_inv_cdf(v):\n",
    "    # value between 0 and 1, to be converted into a probability\n",
    "    assert v <= 1 and v > 0\n",
    "    while v > poisson_cdf_table[-1]:\n",
    "        poisson_cdf(len(poisson_cdf_table) + 100) # calculate a hundred more elements\n",
    "    else:\n",
    "        for k, cdf_k in enumerate(poisson_cdf_table):\n",
    "            if v < cdf_k:\n",
    "                return k\n",
    "\n",
    "def poisson_samples(n):\n",
    "    samples = [poisson_inv_cdf(np.random.rand()) for i in range(n)]\n",
    "    return np.asarray(samples)"
   ]
  },
  {
   "cell_type": "markdown",
   "metadata": {},
   "source": [
    "### (b)\n",
    "\n",
    "We'll implement the Laplace mechanism over a clamped range [a, b]"
   ]
  },
  {
   "cell_type": "code",
   "execution_count": 190,
   "metadata": {},
   "outputs": [],
   "source": [
    "def lap_mechanism(epsilon, GS_q, size=None):\n",
    "    return np.random.laplace(scale=GS_q/epsilon, size=size)\n",
    "\n",
    "def dp_mean(x, epsilon, b, a=0):\n",
    "    x_clipped = np.clip(x, a, b)\n",
    "    GS_q = np.abs(b-a)/x.shape[0]\n",
    "    return x_clipped.mean() + lap_mechanism(epsilon, GS_q)"
   ]
  },
  {
   "cell_type": "markdown",
   "metadata": {},
   "source": [
    "### (c)"
   ]
  },
  {
   "cell_type": "code",
   "execution_count": 191,
   "metadata": {},
   "outputs": [
    {
     "data": {
      "application/vnd.jupyter.widget-view+json": {
       "model_id": "44b9a36722424add9fd5f65e439455ab",
       "version_major": 2,
       "version_minor": 0
      },
      "text/plain": [
       "HBox(children=(IntProgress(value=0), HTML(value='')))"
      ]
     },
     "metadata": {},
     "output_type": "display_data"
    }
   ],
   "source": [
    "n = 200\n",
    "eps = .5\n",
    "b_range = range(10, 30)\n",
    "trials = 100\n",
    "estimation_errors = np.zeros(shape=len(b_range))\n",
    "for trial in tqdm_notebook(range(trials)):\n",
    "    x = poisson_samples(n)\n",
    "    true_mean = x.mean()\n",
    "    estimated_means = np.array([dp_mean(x, eps, b) for b in b_range])\n",
    "    estimation_errors += (estimated_means - true_mean)**2\n",
    "estimation_errors = estimation_errors/trials"
   ]
  },
  {
   "cell_type": "code",
   "execution_count": 192,
   "metadata": {},
   "outputs": [
    {
     "data": {
      "text/plain": [
       "Text(0.5, 1.0, 'MSE in reported mean as a function of clipping size b')"
      ]
     },
     "execution_count": 192,
     "metadata": {},
     "output_type": "execute_result"
    },
    {
     "data": {
      "image/png": "[encoded data removed]",
      "text/plain": [
       "<Figure size 432x288 with 1 Axes>"
      ]
     },
     "metadata": {},
     "output_type": "display_data"
    }
   ],
   "source": [
    "plt.plot(b_range, estimation_errors, 'r-x')\n",
    "plt.xlabel(\"b\")\n",
    "plt.ylabel(\"MSE\")\n",
    "plt.title(\"MSE in reported mean as a function of clipping size b\")"
   ]
  },
  {
   "cell_type": "markdown",
   "metadata": {},
   "source": [
    "From our experiment, we can see that the optimal b value to minimize mean squared error $b^* = 17$ for this example."
   ]
  },
  {
   "cell_type": "markdown",
   "metadata": {},
   "source": [
    "### (d)\n",
    "\n",
    "Individual values in the dataset may significantly affect our above procedure. If a particular value is an outlier, the smaller $b$ is, the more that value gets clipped. (In fact, the impact of the size of the clipping induced by $b$ is quadratic because we're looking at squared error.) So that value would influence the choice of $b$ across any bootstrap subset of the data in which it was included, and an adversary could use the fact that the final $b$ was higher than might have been otherwise expected from the rest of the population to extract that that individual was likely in the dataset."
   ]
  },
  {
   "cell_type": "markdown",
   "metadata": {},
   "source": [
    "### (e)\n",
    "\n",
    "One alternative method is to simply use domain expertise about the likely range of values to set a reasonable $b$ (without looking at the data). So long as this is done independent of the practitioner's knowledge of the data itself, this is differentially private.\n",
    "\n",
    "Alternatively, if we could compute a differentially private maximum (perhaps via an exponential mechanism), then we could set that as $b$. It might in practice be far from $b^*$, but it will still be narrower than \"infinity\". (Similarly, we could pick the 9/10ths largest value in a DP way using the exponential mechanism in more or less the same way that we find the median, but weighted.)"
   ]
  },
  {
   "cell_type": "markdown",
   "metadata": {},
   "source": [
    "## Problem 3"
   ]
  },
  {
   "cell_type": "markdown",
   "metadata": {},
   "source": [
    "### (a)"
   ]
  },
  {
   "cell_type": "code",
   "execution_count": 244,
   "metadata": {},
   "outputs": [],
   "source": [
    "def regression(x, y):\n",
    "    Sxy = np.sum((x-x.mean())*(y-y.mean()))\n",
    "    Sxx = np.sum((x-x.mean())*(y-y.mean()))\n",
    "    beta = Sxy/Sxx\n",
    "    alpha = np.mean(y - beta*x)\n",
    "    return alpha, beta\n",
    "    \n",
    "def dp_regression(x, y, eps, xmin, xmax, ymin, ymax, eps_beta_fraction=0.5):\n",
    "    x = np.clip(x, xmin, xmax)\n",
    "    y = np.clip(y, ymin, ymax)\n",
    "    \n",
    "    Sxy = np.sum((x-x.mean())*(y-y.mean()))\n",
    "    Sxx = np.sum((x-x.mean())*(y-y.mean()))\n",
    "    true_beta = Sxy/Sxx # TODO: remove\n",
    "    # add Laplace noise\n",
    "    corner_values = [xmin*ymin, xmin*ymax, xmax*ymin, xmax*ymax]\n",
    "    GS_Sxy = max(corner_values) - min(corner_values)\n",
    "    GS_Sxy = (ymax-ymin)*(xmax-xmin)\n",
    "    GS_Sxx = (xmax-xmin)**2\n",
    "    \n",
    "    eps_beta = eps*eps_beta_fraction\n",
    "    Sxy += lap_mechanism(eps_beta/2, GS_Sxy)\n",
    "    Sxx += lap_mechanism(eps_beta/2, GS_Sxx)\n",
    "    beta = Sxy/Sxx\n",
    "    \n",
    "    # now do DP mean release \n",
    "    eps_alpha = eps - eps_beta\n",
    "    if beta > 0:\n",
    "        a = ymin - xmin*beta\n",
    "        b = ymax - xmax*beta\n",
    "    else:\n",
    "        a = ymax - xmax*beta\n",
    "        b = ymin - xmin*beta\n",
    "    alpha = dp_mean(y - beta*x, eps_alpha, a=a, b=b)\n",
    "#     print(\"beta: {:0.2f}, true_beta: {:0.2f}, mean_miss: {:0.2f}, true_mean_miss: {:0.2f}\".format(\n",
    "#         beta,\n",
    "#         true_beta,\n",
    "#         np.mean(y-beta*x),\n",
    "#         np.mean(y-true_beta*x)))\n",
    "    \n",
    "    return alpha, beta\n",
    "\n",
    "def regression_samples(n, alpha=1, beta=1, sigma=1.):\n",
    "    x = poisson_samples(n)\n",
    "    y = beta*x + alpha + np.random.normal(scale=sigma, size=x.shape[0])\n",
    "    return x, y\n",
    "\n",
    "def regression_mse(x, y, alpha, beta):\n",
    "    return np.mean((y - (alpha + beta*x))**2)"
   ]
  },
  {
   "cell_type": "markdown",
   "metadata": {},
   "source": [
    "### (b)"
   ]
  },
  {
   "cell_type": "code",
   "execution_count": 249,
   "metadata": {
    "scrolled": true
   },
   "outputs": [
    {
     "data": {
      "application/vnd.jupyter.widget-view+json": {
       "model_id": "fa24d36bfbd64ec09d21ef078de38271",
       "version_major": 2,
       "version_minor": 0
      },
      "text/plain": [
       "HBox(children=(IntProgress(value=0), HTML(value='')))"
      ]
     },
     "metadata": {},
     "output_type": "display_data"
    }
   ],
   "source": [
    "trials = 100\n",
    "n = 1000\n",
    "eps = 1\n",
    "# we'll pick our upper bound based on the likely range of values\n",
    "# specifically, 99.9% of values fall within this range\n",
    "# (we aren't using the specific individuals in our sample - \n",
    "# only known properties of the distribution)\n",
    "xmax = poisson_inv_cdf(0.999)\n",
    "# more arbitrarily, if we assume the magnitude of the slope is less than 10 from prior knowledge\n",
    "guessed_max_slope = 10\n",
    "ymin = -guessed_max_slope*xmax\n",
    "ymax = guessed_max_slope*xmax\n",
    "\n",
    "np_mses = []\n",
    "dp_mses = []\n",
    "for trial in tqdm_notebook(range(trials)):\n",
    "    x, y = regression_samples(n)\n",
    "    alpha_np, beta_np = regression(x, y)\n",
    "    alpha_dp, beta_dp = dp_regression(x, y, eps, xmin=0, xmax=xmax, ymin=ymin, ymax=ymax)\n",
    "    np_mses.append(regression_mse(x, y, alpha_np, beta_np))\n",
    "    dp_mses.append(regression_mse(x, y, alpha_dp, beta_dp))"
   ]
  },
  {
   "cell_type": "code",
   "execution_count": 253,
   "metadata": {},
   "outputs": [
    {
     "data": {
      "text/plain": [
       "Text(0.5, 1.0, 'Example regression')"
      ]
     },
     "execution_count": 253,
     "metadata": {},
     "output_type": "execute_result"
    },
    {
     "data": {
      "image/png": "[encoded data removed]",
      "text/plain": [
       "<Figure size 432x288 with 1 Axes>"
      ]
     },
     "metadata": {},
     "output_type": "display_data"
    }
   ],
   "source": [
    "plt.plot(x, y, 'rx')\n",
    "plt.plot(x, x*beta_dp + alpha_dp, label=\"dp\")\n",
    "plt.plot(x, x*beta_np + alpha_np, label=\"no privacy\")\n",
    "plt.legend()\n",
    "plt.title(\"Example regression\")"
   ]
  },
  {
   "cell_type": "code",
   "execution_count": 255,
   "metadata": {},
   "outputs": [
    {
     "name": "stdout",
     "output_type": "stream",
     "text": [
      "Average MSE across trials, with DP: 22364.53, w/o DP: 1.00\n"
     ]
    }
   ],
   "source": [
    "print(\"Average MSE across trials, with DP: {:0.2f}, w/o DP: {:0.2f}\".format(np.mean(dp_mses), np.mean(np_mses)))"
   ]
  },
  {
   "cell_type": "markdown",
   "metadata": {},
   "source": [
    "Clearly, DP substantially degrades utility."
   ]
  },
  {
   "cell_type": "code",
   "execution_count": 257,
   "metadata": {},
   "outputs": [
    {
     "data": {
      "text/plain": [
       "Text(0, 0.5, 'frequency')"
      ]
     },
     "execution_count": 257,
     "metadata": {},
     "output_type": "execute_result"
    },
    {
     "data": {
      "image/png": "[encoded data removed]",
      "text/plain": [
       "<Figure size 720x288 with 2 Axes>"
      ]
     },
     "metadata": {},
     "output_type": "display_data"
    }
   ],
   "source": [
    "def ignore_outliers(z, max_dev=3.5):\n",
    "    z = np.array(z)\n",
    "    outlier_inds = np.abs(z - z.mean()) > np.std(z)*max_dev\n",
    "    return z[np.logical_not(outlier_inds)]\n",
    "    \n",
    "bins = 20\n",
    "fig, axs = plt.subplots(ncols=2, figsize=(10, 4))\n",
    "plt.sca(axs[0])\n",
    "plt.hist(ignore_outliers(np_mses), bins=bins);\n",
    "plt.title(\"Non-private regression MSEs\")\n",
    "plt.xlabel(\"MSE\")\n",
    "plt.ylabel(\"frequency\")\n",
    "plt.sca(axs[1])\n",
    "plt.hist(ignore_outliers(dp_mses), \n",
    "         histtype='barstacked',\n",
    "         bins=bins);\n",
    "plt.title(\"DP regression MSEs (with eps=0.5 for both alpha and beta)\")\n",
    "plt.xlabel(\"MSE\")\n",
    "plt.ylabel(\"frequency\")"
   ]
  },
  {
   "cell_type": "markdown",
   "metadata": {},
   "source": [
    "The distribution of residuals is much much higher when doing differentially private regression. After interrogating this for a while, the problem seems to be as follows:\n",
    "\n",
    "When we spend an insufficient portion of our $\\epsilon$ on estimating the slope, the estimate of the slope is off - which then makes the estimate of the intercept way, way off. Once the intercept is much larger or smaller than 1, almost every point will miss by that amount. This leads to enormous squared errors for nearly every point.\n"
   ]
  },
  {
   "cell_type": "markdown",
   "metadata": {},
   "source": [
    "### (c)\n",
    "\n",
    "Let's see whether we can't find a better allocation of epsilons."
   ]
  },
  {
   "cell_type": "code",
   "execution_count": 273,
   "metadata": {},
   "outputs": [
    {
     "data": {
      "application/vnd.jupyter.widget-view+json": {
       "model_id": "fbaae5bd825144d39c9fb5d9eb3b19a1",
       "version_major": 2,
       "version_minor": 0
      },
      "text/plain": [
       "HBox(children=(IntProgress(value=0), HTML(value='')))"
      ]
     },
     "metadata": {},
     "output_type": "display_data"
    }
   ],
   "source": [
    "trials = 200\n",
    "eps_beta_fraction_range = np.linspace(.1, .9, 100)\n",
    "avg_dp_mses = []\n",
    "for eps_beta_fraction in tqdm_notebook(eps_beta_fraction_range):\n",
    "    dp_mses = []\n",
    "    for trial in range(trials):\n",
    "        x, y = regression_samples(n)\n",
    "        alpha_np, beta_np = regression(x, y)\n",
    "        alpha_dp, beta_dp = dp_regression(x, y, eps, xmin=0, xmax=xmax, ymin=ymin, ymax=ymax,\n",
    "                                          eps_beta_fraction=eps_beta_fraction)\n",
    "        np_mses.append(regression_mse(x, y, alpha_np, beta_np))\n",
    "        dp_mses.append(regression_mse(x, y, alpha_dp, beta_dp))\n",
    "    avg_dp_mses.append(np.mean(dp_mses))"
   ]
  },
  {
   "cell_type": "code",
   "execution_count": 286,
   "metadata": {},
   "outputs": [
    {
     "name": "stdout",
     "output_type": "stream",
     "text": [
      "Best eps fraction: 0.86\n"
     ]
    },
    {
     "data": {
      "image/png": "[encoded data removed]",
      "text/plain": [
       "<Figure size 720x288 with 2 Axes>"
      ]
     },
     "metadata": {},
     "output_type": "display_data"
    }
   ],
   "source": [
    "plt.figure(figsize=(10, 4))\n",
    "plt.subplot(1, 2, 1)\n",
    "plt.plot(eps_beta_fraction_range, avg_dp_mses);\n",
    "plt.title(\"MSE varying with eps frac devoted to beta\")\n",
    "plt.xlabel(\"Fraction of epsilon devoted to finding beta\")\n",
    "plt.ylabel(\"Average MSE over {} runs\".format(trials))\n",
    "best_eps_fraction = eps_beta_fraction_range[np.argmin(avg_dp_mses)]\n",
    "plt.subplot(1, 2, 2)\n",
    "range_top = np.argmin(avg_dp_mses) + 20\n",
    "range_bottom = np.argmin(avg_dp_mses) - 20\n",
    "plt.plot(eps_beta_fraction_range[range_bottom:range_top],\n",
    "         avg_dp_mses[range_bottom:range_top]);\n",
    "plt.title(\"Narrowing in\")\n",
    "plt.xlabel(\"Fraction of epsilon devoted to finding beta\")\n",
    "plt.ylabel(\"Average MSE over {} runs\".format(trials))\n",
    "plt.tight_layout()\n",
    "print(\"Best eps fraction: {:0.2f}\".format(best_eps_fraction))"
   ]
  },
  {
   "cell_type": "markdown",
   "metadata": {},
   "source": [
    "As we expected we can see that it's much better to devote more of the epsilon to finding an accurate slope (optimally around $0.85$) - \n",
    "with the idea being that any error in the slope quickly translates to a greater error in the intercept.\n",
    "Hence, we want to allocate epsilon to minimize this double-counting of error.\n",
    "\n",
    "One sidenote: even the optimized version of this performs very, very poorly, and that's even after assuming that our slopes exist in a fairly narrow range ($\\pm 10$)."
   ]
  },
  {
   "cell_type": "markdown",
   "metadata": {},
   "source": [
    "## Problem 4."
   ]
  },
  {
   "cell_type": "markdown",
   "metadata": {},
   "source": [
    "Let's write out the problem.\n",
    "$$ E[\\#\\{ i \\in [n] : A(M(X))_i = X_i\\}/n]$$\n",
    "$$ = \\frac{1}{n} \\sum_{i=1}^n E[A(M(X))_i == X_i] $$\n",
    "by linearity of expectation. Let's focus on a single such example $i$.\n",
    "\n",
    "Let $X^{(i)}$ be the dataset identical to $X$, except that row $i$ is replaced with value $0$. Obviously, all such datasets are neighbors of $X$ (or the same as $X$), and so DP properties should hold (if they're the same, the ineqality holds because the equality holds).\n",
    "\n",
    "Assume that, for a set of outputs $s \\in S$, if $M(X) = s$ our adversary guesses that $A(s)_i = X_i$.\n",
    "$$ E[A(M(X))_i == X_i] = P(M(X) \\in S) \\leq e^\\epsilon P(M(X^{(i)} \\in S) + \\delta$$\n",
    "$$P(M(X^{(i)}) \\in S) = E[A(M(X^{(i)})) = X^{(i)}_i] = 1-p$$\n",
    "because there's only a $1-p$ probability that $X_i$ happened to be 0.\n",
    "\n",
    "Thus, we have that\n",
    "$$ E[\\#\\{ i \\in [n] : A(M(X))_i = X_i\\}/n]$$\n",
    "$$ = \\frac{1}{n} \\sum_{i=1}^n E[A(M(X))_i == X_i] $$\n",
    "$$ \\leq \\frac{1}{n} \\sum_{i=1}^n \\left ( e^\\epsilon (1-p) + \\delta \\right ) $$\n",
    "$$ = e^\\epsilon (1-p) + \\delta $$\n",
    "This seems to complete one half of the desired $\\max{\\left \\{ p, 1-p\\right \\}}$, but repeating this procedure twice would suggest the bound is the min of these two bounds - which suggests to me that I've erred somewhere in this derivation.\n",
    "But I'm not sure where, and have run out of time :("
   ]
  },
  {
   "cell_type": "markdown",
   "metadata": {},
   "source": [
    "## Problem 5\n",
    "Emailed separately."
   ]
  },
  {
   "cell_type": "code",
   "execution_count": null,
   "metadata": {},
   "outputs": [],
   "source": []
  }
 ],
 "metadata": {
  "kernelspec": {
   "display_name": "Python 3",
   "language": "python",
   "name": "python3"
  },
  "language_info": {
   "codemirror_mode": {
    "name": "ipython",
    "version": 3
   },
   "file_extension": ".py",
   "mimetype": "text/x-python",
   "name": "python",
   "nbconvert_exporter": "python",
   "pygments_lexer": "ipython3",
   "version": "3.6.8"
  }
 },
 "nbformat": 4,
 "nbformat_minor": 2
}
