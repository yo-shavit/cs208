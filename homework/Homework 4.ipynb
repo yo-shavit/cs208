{
 "cells": [
  {
   "cell_type": "markdown",
   "metadata": {},
   "source": [
    "# Homework 4a Submission\n",
    "## Yonadav Shavit"
   ]
  },
  {
   "cell_type": "code",
   "execution_count": 869,
   "metadata": {},
   "outputs": [
    {
     "name": "stdout",
     "output_type": "stream",
     "text": [
      "The autoreload extension is already loaded. To reload it, use:\n",
      "  %reload_ext autoreload\n"
     ]
    }
   ],
   "source": [
    "%load_ext autoreload\n",
    "%autoreload 2\n",
    "import numpy as np\n",
    "from scipy.special import factorial\n",
    "import pandas as pd\n",
    "import matplotlib.pyplot as plt\n",
    "from tqdm import tqdm_notebook"
   ]
  },
  {
   "cell_type": "markdown",
   "metadata": {},
   "source": [
    "(Let's define some latex commands)\n",
    " \n",
    "$\\newcommand{\\floor}[1]{\\left \\lfloor #1 \\right \\rfloor}$\n",
    "$\\newcommand{\\clamp}[1]{\\left [ #1 \\right ]}$\n",
    "$\\newcommand{\\lap}[1]{Lap\\left ( #1 \\right )}$\n",
    "$\\newcommand{\\lapcdf}[2]{LapCDF\\left ( #1, [-\\inf, #2] \\right )}$\n",
    "$\\newcommand{\\lappdf}[2]{LapPDF\\left ( #1, |_{#2} \\right )}$\n",
    "$\\newcommand{\\lapcdffull}[2]{\\frac{1}{2} + \\frac{1}{2}sgn\\left({#2}\\right)\\left ( 1 - \\exp{\\left ( - \\frac{|#2|}{#1} \\right ) }\\right )}$\n",
    "$\\newcommand{\\lappdffull}[2]{\\frac{1}{2 #1} \\exp{\\left ( - \\frac{#2}{#1}\\right ) }}$"
   ]
  },
  {
   "cell_type": "markdown",
   "metadata": {},
   "source": [
    "## Problem 1"
   ]
  },
  {
   "cell_type": "markdown",
   "metadata": {},
   "source": [
    "### (a)"
   ]
  },
  {
   "cell_type": "markdown",
   "metadata": {},
   "source": [
    "We'll be implementing two different mechanisms, both of which rely on an estimation of $p_j$.\n",
    "\n",
    "In the local DP case, we'll compute $I(x[j] = 0 \\land y = 1)$, and then return that value (or its conjugate) with probability $\\frac{e^\\epsilon}{1 + e^\\epsilon}$, and then scale that up by a factor of $c_\\epsilon = \\frac{e^\\epsilon + 1}{e^\\epsilon - 1}$.\n",
    "\n",
    "In the centralized DP case, we'll compute $\\frac{1}{n}\\sum_{i = 0}^n{I(x_i[j] = 0 \\land y_i = 1)}$, and then add Laplace noise of magnitude $\\frac{1}{n\\epsilon}$."
   ]
  },
  {
   "cell_type": "code",
   "execution_count": 709,
   "metadata": {},
   "outputs": [],
   "source": [
    "df = pd.read_csv(\"../data/hw4testdata.csv\")"
   ]
  },
  {
   "cell_type": "code",
   "execution_count": 710,
   "metadata": {},
   "outputs": [],
   "source": [
    "X_toy = df[[col for col in df.columns if \"x\" in col]].values\n",
    "Y_toy = df['y'].values"
   ]
  },
  {
   "cell_type": "code",
   "execution_count": 1209,
   "metadata": {},
   "outputs": [],
   "source": [
    "def local_pj(Xj, Y, epsilon):\n",
    "    n = Xj.shape[0]\n",
    "    eeps = np.exp(epsilon)\n",
    "    correct_vals = (1-Xj)*Y\n",
    "    flip_bit = np.random.binomial(1, 1/(1+eeps), size=n).astype(bool)\n",
    "    randomized_vals = np.logical_xor(flip_bit, correct_vals)\n",
    "    c_e = (eeps + 1)/(eeps - 1)\n",
    "    return c_e*randomized_vals.mean()\n",
    "\n",
    "def lap_mechanism(epsilon, GS_q, size=None):\n",
    "    return np.random.laplace(scale=GS_q/epsilon, size=size)\n",
    "\n",
    "def dp_mean(x, epsilon, b, a=0):\n",
    "    x_clipped = np.clip(x, a, b)\n",
    "    GS_q = np.abs(b-a)/x.shape[0]\n",
    "    return x_clipped.mean() + lap_mechanism(epsilon, GS_q)\n",
    "\n",
    "def centralized_pj(Xj, Y, epsilon):\n",
    "    return dp_mean(((1-Xj)*Y).astype(int), epsilon, b=1)\n",
    "\n",
    "def sq_mechanism(X, Y, epsilon, t, pj_alg):\n",
    "    d = X.shape[1]\n",
    "    ps = np.array([pj_alg(X[:, j], Y, epsilon/d) for j in range(d)])\n",
    "    S = (ps < t).astype(int)\n",
    "    return S\n",
    "\n",
    "local_sq_mechanism = lambda *args: sq_mechanism(*args, local_pj)\n",
    "centralized_sq_mechanism = lambda *args: sq_mechanism(*args, centralized_pj)\n",
    "\n",
    "def compute_statistics(S, X, Y):\n",
    "    \"\"\" Error, FPR, and FNR\n",
    "    \"\"\"\n",
    "    Yhat = ((S*X_test).sum(axis=1) == S.sum()).astype(int)\n",
    "    fpr = (Yhat*(1-Y)).mean()\n",
    "    fnr = ((1-Yhat)*Y).mean()\n",
    "    error_rate = fpr + fnr\n",
    "    return error_rate, fpr, fnr"
   ]
  },
  {
   "cell_type": "markdown",
   "metadata": {},
   "source": [
    "## (b)\n"
   ]
  },
  {
   "cell_type": "markdown",
   "metadata": {},
   "source": [
    "We will leverage the following approximation to the binomial distribution, which holds under large $n$:\n",
    "$$f(x)=\n",
    "\\frac{n !}{x !(n-x) !} p^{x} q^{n-x} \\approx \n",
    "\\mathcal{N}(np, np(1-p)) = \n",
    "\\frac{1}{\\sqrt{2 \\pi n p (1-p)}} e^{-\\frac{(x-n p)^{2}}{2 n p (1-p)}} $$"
   ]
  },
  {
   "cell_type": "markdown",
   "metadata": {},
   "source": [
    "First, we'll think about the global model.\n",
    "\n",
    "Let's examine the probability that $j$ is included in $\\hat{S}$ but not $S$ (i.e. false inclusion). \n",
    "Let $\\epsilon_j$ be the privacy loss parameter associated with computing $p_j$ (in practice $\\frac{\\epsilon}{d}$).\n",
    "Remember that $p_j = 0$ for $j \\in S$.\n",
    "\n",
    "$$P(j \\notin \\hat{S} \\land j \\in S) = \n",
    "P\\left(0 + \\lap{\\frac{1}{n\\epsilon_j}} > t\\right) = \n",
    "1 - \\left(\\lapcdffull{\\frac{1}{n\\epsilon_j}}{t} \\right)= \n",
    "\\frac{1}{2}\\exp{\\left ( -tn\\epsilon_j \\right )}\n",
    "$$"
   ]
  },
  {
   "cell_type": "markdown",
   "metadata": {},
   "source": [
    "The probability that any of the $j$'s in $S$ is excluded from $\\hat{S}$ is simply:\n",
    "$$ P(S \\not\\subseteq \\hat{S}) = \n",
    "1 - \\prod_{j \\in S} \\left ( 1 - P(j \\notin \\hat{S} \\land j \\in S)\\right ) = \n",
    "1 - \\left(1 - \\frac{1}{2}\\exp{\\left ( -tn\\epsilon_j \\right )} \\right )^{|S|} $$"
   ]
  },
  {
   "cell_type": "markdown",
   "metadata": {},
   "source": [
    "So, to ensure the false exclusion rate is below $0.1$, we need:\n",
    "$$ t >  \\frac{-d}{n\\epsilon}\\log{\\left(2 - 2\\sqrt[d]{0.9} \\right )} $$"
   ]
  },
  {
   "cell_type": "markdown",
   "metadata": {},
   "source": [
    "Next, let's think about the local model.\n",
    "\n",
    "Note that because each response (out of $n$) used to calculate a particular $p_j$ is a single Bernoulli RV, we can treat their overall average as the response of a Bernoulli RV with $p=\\frac{1}{e^{\\epsilon_j} + 1}$ and $n$ trials.\n",
    "The probability that $j$ is included in $\\hat{S}$ but not $S$ is the same as the probability of that Bernoulli distribution reaching a value less than $\\frac{tn}{c_{\\epsilon_j}}$:\n",
    "\n",
    "$$P(j \\notin \\hat{S} \\land j \\in S) =\n",
    "1 - GaussianCDF\\left( \\frac{tn}{c_{\\epsilon_j}}; \\frac{n}{e^{\\epsilon_j} + 1}, \\frac{ne^{\\epsilon_j}}{(1 + e^{\\epsilon_j})^2} \\right) = \n",
    "NormalCDF \\left( -1 \\times (e^{\\epsilon_j} + 1)\\frac{\\frac{tn}{c_{\\epsilon_j}} - \\frac{n}{e^{\\epsilon_j} + 1}}{e^{\\epsilon_j/2}\\sqrt{n}} \\right ) = \n",
    "NormalCDF \\left( \\left (-t\\left(e^{\\epsilon_j} - 1\\right) + 1 \\right ) \\frac{\\sqrt{n}}{e^{\\epsilon_j/2}} \\right )$$"
   ]
  },
  {
   "cell_type": "markdown",
   "metadata": {},
   "source": [
    "As before, the combined probability of any exclusion is:\n",
    "$$ P(S \\not\\subseteq \\hat{S}) = \n",
    "1 - \\prod_{j \\in S} \\left ( 1 - P(j \\notin \\hat{S} \\land j \\in S)\\right ) = \n",
    "1- \\left (NormalCDF \\left( \\left (t\\left(e^{\\frac{\\epsilon}{d}} - 1\\right ) - 1 \\right ) \\frac{\\sqrt{n}}{e^{\\frac{\\epsilon}{2d}}} \\right ) \\right )^{|S|}$$"
   ]
  },
  {
   "cell_type": "markdown",
   "metadata": {},
   "source": [
    "(We'll forgo calculating an appropriate $t$ analytically, and just solve the above equation computationally given the used parameters.)"
   ]
  },
  {
   "cell_type": "markdown",
   "metadata": {},
   "source": [
    "## (c)\n"
   ]
  },
  {
   "cell_type": "code",
   "execution_count": 1210,
   "metadata": {},
   "outputs": [
    {
     "data": {
      "text/html": [
       "<div>\n",
       "<style scoped>\n",
       "    .dataframe tbody tr th:only-of-type {\n",
       "        vertical-align: middle;\n",
       "    }\n",
       "\n",
       "    .dataframe tbody tr th {\n",
       "        vertical-align: top;\n",
       "    }\n",
       "\n",
       "    .dataframe thead th {\n",
       "        text-align: right;\n",
       "    }\n",
       "</style>\n",
       "<table border=\"1\" class=\"dataframe\">\n",
       "  <thead>\n",
       "    <tr style=\"text-align: right;\">\n",
       "      <th></th>\n",
       "      <th>married</th>\n",
       "      <th>black</th>\n",
       "      <th>asian</th>\n",
       "      <th>collegedegree</th>\n",
       "      <th>employed</th>\n",
       "      <th>militaryservice</th>\n",
       "      <th>uscitizen</th>\n",
       "      <th>disability</th>\n",
       "      <th>englishability</th>\n",
       "      <th>blackfemale</th>\n",
       "      <th>targetted</th>\n",
       "      <th>female</th>\n",
       "    </tr>\n",
       "  </thead>\n",
       "  <tbody>\n",
       "    <tr>\n",
       "      <th>count</th>\n",
       "      <td>1.223992e+06</td>\n",
       "      <td>1.223992e+06</td>\n",
       "      <td>1.223992e+06</td>\n",
       "      <td>1.223992e+06</td>\n",
       "      <td>1.223992e+06</td>\n",
       "      <td>1.223992e+06</td>\n",
       "      <td>1.223992e+06</td>\n",
       "      <td>1.223992e+06</td>\n",
       "      <td>1.223992e+06</td>\n",
       "      <td>1.223992e+06</td>\n",
       "      <td>1.223992e+06</td>\n",
       "      <td>1.223992e+06</td>\n",
       "    </tr>\n",
       "    <tr>\n",
       "      <th>mean</th>\n",
       "      <td>5.543500e-01</td>\n",
       "      <td>6.290482e-02</td>\n",
       "      <td>1.232328e-01</td>\n",
       "      <td>3.037610e-01</td>\n",
       "      <td>5.905047e-01</td>\n",
       "      <td>1.313971e-01</td>\n",
       "      <td>8.124939e-01</td>\n",
       "      <td>2.358398e-01</td>\n",
       "      <td>8.785017e-01</td>\n",
       "      <td>3.324450e-02</td>\n",
       "      <td>2.538946e-01</td>\n",
       "      <td>5.120834e-01</td>\n",
       "    </tr>\n",
       "    <tr>\n",
       "      <th>std</th>\n",
       "      <td>4.970375e-01</td>\n",
       "      <td>2.427918e-01</td>\n",
       "      <td>3.287044e-01</td>\n",
       "      <td>4.598809e-01</td>\n",
       "      <td>4.917409e-01</td>\n",
       "      <td>3.378343e-01</td>\n",
       "      <td>3.903174e-01</td>\n",
       "      <td>4.245227e-01</td>\n",
       "      <td>3.267057e-01</td>\n",
       "      <td>1.792744e-01</td>\n",
       "      <td>4.352382e-01</td>\n",
       "      <td>4.998542e-01</td>\n",
       "    </tr>\n",
       "    <tr>\n",
       "      <th>min</th>\n",
       "      <td>0.000000e+00</td>\n",
       "      <td>0.000000e+00</td>\n",
       "      <td>0.000000e+00</td>\n",
       "      <td>0.000000e+00</td>\n",
       "      <td>0.000000e+00</td>\n",
       "      <td>0.000000e+00</td>\n",
       "      <td>0.000000e+00</td>\n",
       "      <td>0.000000e+00</td>\n",
       "      <td>0.000000e+00</td>\n",
       "      <td>0.000000e+00</td>\n",
       "      <td>0.000000e+00</td>\n",
       "      <td>0.000000e+00</td>\n",
       "    </tr>\n",
       "    <tr>\n",
       "      <th>25%</th>\n",
       "      <td>0.000000e+00</td>\n",
       "      <td>0.000000e+00</td>\n",
       "      <td>0.000000e+00</td>\n",
       "      <td>0.000000e+00</td>\n",
       "      <td>0.000000e+00</td>\n",
       "      <td>0.000000e+00</td>\n",
       "      <td>1.000000e+00</td>\n",
       "      <td>0.000000e+00</td>\n",
       "      <td>1.000000e+00</td>\n",
       "      <td>0.000000e+00</td>\n",
       "      <td>0.000000e+00</td>\n",
       "      <td>0.000000e+00</td>\n",
       "    </tr>\n",
       "    <tr>\n",
       "      <th>50%</th>\n",
       "      <td>1.000000e+00</td>\n",
       "      <td>0.000000e+00</td>\n",
       "      <td>0.000000e+00</td>\n",
       "      <td>0.000000e+00</td>\n",
       "      <td>1.000000e+00</td>\n",
       "      <td>0.000000e+00</td>\n",
       "      <td>1.000000e+00</td>\n",
       "      <td>0.000000e+00</td>\n",
       "      <td>1.000000e+00</td>\n",
       "      <td>0.000000e+00</td>\n",
       "      <td>0.000000e+00</td>\n",
       "      <td>1.000000e+00</td>\n",
       "    </tr>\n",
       "    <tr>\n",
       "      <th>75%</th>\n",
       "      <td>1.000000e+00</td>\n",
       "      <td>0.000000e+00</td>\n",
       "      <td>0.000000e+00</td>\n",
       "      <td>1.000000e+00</td>\n",
       "      <td>1.000000e+00</td>\n",
       "      <td>0.000000e+00</td>\n",
       "      <td>1.000000e+00</td>\n",
       "      <td>0.000000e+00</td>\n",
       "      <td>1.000000e+00</td>\n",
       "      <td>0.000000e+00</td>\n",
       "      <td>1.000000e+00</td>\n",
       "      <td>1.000000e+00</td>\n",
       "    </tr>\n",
       "    <tr>\n",
       "      <th>max</th>\n",
       "      <td>1.000000e+00</td>\n",
       "      <td>1.000000e+00</td>\n",
       "      <td>1.000000e+00</td>\n",
       "      <td>1.000000e+00</td>\n",
       "      <td>1.000000e+00</td>\n",
       "      <td>1.000000e+00</td>\n",
       "      <td>1.000000e+00</td>\n",
       "      <td>1.000000e+00</td>\n",
       "      <td>1.000000e+00</td>\n",
       "      <td>1.000000e+00</td>\n",
       "      <td>1.000000e+00</td>\n",
       "      <td>1.000000e+00</td>\n",
       "    </tr>\n",
       "  </tbody>\n",
       "</table>\n",
       "</div>"
      ],
      "text/plain": [
       "            married         black         asian  collegedegree      employed  \\\n",
       "count  1.223992e+06  1.223992e+06  1.223992e+06   1.223992e+06  1.223992e+06   \n",
       "mean   5.543500e-01  6.290482e-02  1.232328e-01   3.037610e-01  5.905047e-01   \n",
       "std    4.970375e-01  2.427918e-01  3.287044e-01   4.598809e-01  4.917409e-01   \n",
       "min    0.000000e+00  0.000000e+00  0.000000e+00   0.000000e+00  0.000000e+00   \n",
       "25%    0.000000e+00  0.000000e+00  0.000000e+00   0.000000e+00  0.000000e+00   \n",
       "50%    1.000000e+00  0.000000e+00  0.000000e+00   0.000000e+00  1.000000e+00   \n",
       "75%    1.000000e+00  0.000000e+00  0.000000e+00   1.000000e+00  1.000000e+00   \n",
       "max    1.000000e+00  1.000000e+00  1.000000e+00   1.000000e+00  1.000000e+00   \n",
       "\n",
       "       militaryservice     uscitizen    disability  englishability  \\\n",
       "count     1.223992e+06  1.223992e+06  1.223992e+06    1.223992e+06   \n",
       "mean      1.313971e-01  8.124939e-01  2.358398e-01    8.785017e-01   \n",
       "std       3.378343e-01  3.903174e-01  4.245227e-01    3.267057e-01   \n",
       "min       0.000000e+00  0.000000e+00  0.000000e+00    0.000000e+00   \n",
       "25%       0.000000e+00  1.000000e+00  0.000000e+00    1.000000e+00   \n",
       "50%       0.000000e+00  1.000000e+00  0.000000e+00    1.000000e+00   \n",
       "75%       0.000000e+00  1.000000e+00  0.000000e+00    1.000000e+00   \n",
       "max       1.000000e+00  1.000000e+00  1.000000e+00    1.000000e+00   \n",
       "\n",
       "        blackfemale     targetted        female  \n",
       "count  1.223992e+06  1.223992e+06  1.223992e+06  \n",
       "mean   3.324450e-02  2.538946e-01  5.120834e-01  \n",
       "std    1.792744e-01  4.352382e-01  4.998542e-01  \n",
       "min    0.000000e+00  0.000000e+00  0.000000e+00  \n",
       "25%    0.000000e+00  0.000000e+00  0.000000e+00  \n",
       "50%    0.000000e+00  0.000000e+00  1.000000e+00  \n",
       "75%    0.000000e+00  1.000000e+00  1.000000e+00  \n",
       "max    1.000000e+00  1.000000e+00  1.000000e+00  "
      ]
     },
     "execution_count": 1210,
     "metadata": {},
     "output_type": "execute_result"
    }
   ],
   "source": [
    "df = pd.read_csv(\"../data/CaPUMS5full.csv\")\n",
    "df['female'] = df['sex']\n",
    "df = df.drop(columns=['sex'])\n",
    "df.describe()"
   ]
  },
  {
   "cell_type": "code",
   "execution_count": 1211,
   "metadata": {},
   "outputs": [],
   "source": [
    "train_test_split = int(0.8*df.shape[0])\n",
    "features = df.drop(columns=['blackfemale', 'targetted'])\n",
    "# create dummy variables for the inverse property\n",
    "\n",
    "for col in df.columns:\n",
    "    if col not in ['blackfemale', 'targetted']:\n",
    "        features['not_'+col] = 1 - df[col]\n",
    "X_train, X_test = features.values[:train_test_split, :], features.values[train_test_split:, :]\n",
    "# Y_train, Y_test = df['blackfemale'].values[:train_test_split], df['blackfemale'].values[train_test_split:]\n",
    "Y_train, Y_test = df['targetted'].values[:train_test_split], df['targetted'].values[train_test_split:]"
   ]
  },
  {
   "cell_type": "code",
   "execution_count": 1212,
   "metadata": {},
   "outputs": [],
   "source": [
    "eps = 1\n",
    "n_train, d_train = X_train.shape\n",
    "\n",
    "def compute_centralized_t(n, d, eps, target_pfi=0.1):\n",
    "    t_centralized = -np.log(2 - 2*(1-target_pfi)**(1/d))*d/(n*eps)\n",
    "    return t_centralized\n",
    "\n",
    "from scipy.stats import norm\n",
    "def compute_local_p_false_exclusion(n, d, eps, t):\n",
    "    eeps = np.exp(eps/d)\n",
    "    arg = (t*(eeps - 1) - 1)*np.sqrt(n/eeps)\n",
    "    p_false_inclusion = 1 - (norm.cdf(arg))**d\n",
    "    return p_false_inclusion\n",
    "    \n",
    "tolerance = 1e-3\n",
    "def compute_local_t(n, d, eps, target_pfe=0.1):\n",
    "    upper = 1000\n",
    "    lower = 1e-9\n",
    "    i = 0\n",
    "    while True:\n",
    "        i += 1\n",
    "        if i == 1000:\n",
    "            print(i, t_guess)\n",
    "            return\n",
    "        t_guess = (upper + lower)/2\n",
    "        pfe = compute_local_p_false_exclusion(n, d, eps, t_guess)\n",
    "        if pfe > target_pfe + tolerance:\n",
    "            lower = t_guess\n",
    "        elif pfe < target_pfe:\n",
    "            upper = t_guess\n",
    "        else:\n",
    "            return t_guess"
   ]
  },
  {
   "cell_type": "code",
   "execution_count": 1227,
   "metadata": {},
   "outputs": [
    {
     "name": "stdout",
     "output_type": "stream",
     "text": [
      "Centralized model t: 9.30477500729864e-05\n",
      "Local model t: 19.555807114627903\n"
     ]
    }
   ],
   "source": [
    "t_central = compute_centralized_t(n_train, d_train, eps)\n",
    "t_local = compute_local_t(n_train, d_train, eps)\n",
    "print(f\"Centralized model t: {t_central}\")\n",
    "print(f\"Local model t: {t_local}\")"
   ]
  },
  {
   "cell_type": "code",
   "execution_count": 1228,
   "metadata": {},
   "outputs": [
    {
     "name": "stdout",
     "output_type": "stream",
     "text": [
      "Attrs predicted by local model: ['employed', 'uscitizen', 'englishability', 'not_black', 'not_asian', 'not_militaryservice', 'not_female']\n",
      "Attrs predicted by centralized model: ['employed', 'uscitizen', 'englishability', 'not_female']\n"
     ]
    }
   ],
   "source": [
    "# First let's look at our ability to predict black female targetting\n",
    "S_local = local_sq_mechanism(X_train, Y_train, eps, t_local)\n",
    "S_centralized = centralized_sq_mechanism(X_train, Y_train, eps, t_central)\n",
    "print(\"Attrs predicted by local model: {}\".format([features.columns[i] for i in range(X_train.shape[1]) if S_local[i]]))\n",
    "print(\"Attrs predicted by centralized model: {}\".format([features.columns[i] for i in range(X_train.shape[1]) if S_centralized[i]]))"
   ]
  },
  {
   "cell_type": "markdown",
   "metadata": {},
   "source": [
    "In practice, employed + uscitizen + englishability + notfemale perfectly predicts the target variable, so both solutions achieved the correct outcome (with the local model having many more false positives)."
   ]
  },
  {
   "cell_type": "code",
   "execution_count": 1229,
   "metadata": {},
   "outputs": [
    {
     "data": {
      "application/vnd.jupyter.widget-view+json": {
       "model_id": "2c21398695104a8e8fc50315852bbdb3",
       "version_major": 2,
       "version_minor": 0
      },
      "text/plain": [
       "HBox(children=(IntProgress(value=0, max=50), HTML(value='')))"
      ]
     },
     "metadata": {},
     "output_type": "display_data"
    },
    {
     "name": "stdout",
     "output_type": "stream",
     "text": [
      "The average error rate with the local model was 0.08981572637143127\n",
      "The average error rate with the centralized model was 0.002398947708119723\n"
     ]
    }
   ],
   "source": [
    "trials = 50\n",
    "avg_err_local = 0\n",
    "avg_err_centralized = 0\n",
    "for _ in tqdm_notebook(range(trials)):\n",
    "    S_local = local_sq_mechanism(X_train, Y_train, eps, t_local)\n",
    "    S_centralized = centralized_sq_mechanism(X_train, Y_train, eps, t_central)\n",
    "    avg_err_local += compute_statistics(S_local, X_test, Y_test)[0]\n",
    "    avg_err_centralized += compute_statistics(S_centralized, X_test, Y_test)[0]\n",
    "avg_err_local /= trials\n",
    "avg_err_centralized /= trials\n",
    "print(f\"The average error rate with the local model was {avg_err_local}\")\n",
    "print(f\"The average error rate with the centralized model was {avg_err_centralized}\")"
   ]
  },
  {
   "cell_type": "markdown",
   "metadata": {},
   "source": [
    "We can see that the centralized model learns almost perfectly, and the localized model learns fairly well - but has some number of false negatives (i.e. extra attributes are included and thus the model predicts positives too restrictively)."
   ]
  },
  {
   "cell_type": "markdown",
   "metadata": {},
   "source": [
    "Now let's bootstrap smaller datasets to show the behavior of these methods."
   ]
  },
  {
   "cell_type": "code",
   "execution_count": 1237,
   "metadata": {},
   "outputs": [
    {
     "data": {
      "application/vnd.jupyter.widget-view+json": {
       "model_id": "704018f39e61461cb08f027adacd492d",
       "version_major": 2,
       "version_minor": 0
      },
      "text/plain": [
       "HBox(children=(IntProgress(value=0, max=20), HTML(value='')))"
      ]
     },
     "metadata": {},
     "output_type": "display_data"
    }
   ],
   "source": [
    "trials = 10\n",
    "l_avg_fpr_local = []\n",
    "l_avg_fpr_centralized = []\n",
    "l_avg_fnr_local = []\n",
    "l_avg_fnr_centralized = []\n",
    "ns = np.linspace(1000, n_train, 20).astype(int)\n",
    "for n in tqdm_notebook(ns.tolist()):\n",
    "    indices = np.random.choice(np.arange(n_train), n, replace=False)\n",
    "    X = X_train[indices, :]\n",
    "    Y = Y_train[indices]\n",
    "    t_central = compute_centralized_t(n, d_train, eps)\n",
    "    t_local = compute_local_t(n, d_train, eps)\n",
    "    fpr_local = 0\n",
    "    fpr_centralized = 0\n",
    "    fnr_local = 0\n",
    "    fnr_centralized = 0\n",
    "    for _ in range(trials):\n",
    "        S_local = local_sq_mechanism(X, Y, eps, t_local)\n",
    "        S_centralized = centralized_sq_mechanism(X, Y, eps, t_central)\n",
    "        _, fpr, fnr = compute_statistics(S_local, X_test, Y_test)\n",
    "        fpr_local += fpr; fnr_local += fnr\n",
    "        _, fpr, fnr = compute_statistics(S_centralized, X_test, Y_test)\n",
    "        fpr_centralized += fpr; fnr_centralized += fnr\n",
    "    fpr_local /= trials\n",
    "    fnr_local /= trials\n",
    "    fpr_centralized /= trials\n",
    "    fnr_centralized /= trials\n",
    "    l_avg_fpr_local.append(fpr_local)\n",
    "    l_avg_fpr_centralized.append(fpr_centralized)\n",
    "    l_avg_fnr_local.append(fnr_local)\n",
    "    l_avg_fnr_centralized.append(fnr_centralized)"
   ]
  },
  {
   "cell_type": "code",
   "execution_count": 1238,
   "metadata": {},
   "outputs": [],
   "source": [
    "l_avg_fpr_local, l_avg_fpr_centralized, l_avg_fnr_local, l_avg_fnr_centralized = map(np.array, [l_avg_fpr_local, l_avg_fpr_centralized, l_avg_fnr_local, l_avg_fnr_centralized ])"
   ]
  },
  {
   "cell_type": "code",
   "execution_count": 1239,
   "metadata": {},
   "outputs": [
    {
     "data": {
      "text/plain": [
       "<matplotlib.legend.Legend at 0x122b7a2e8>"
      ]
     },
     "execution_count": 1239,
     "metadata": {},
     "output_type": "execute_result"
    },
    {
     "data": {
      "image/png": "[encoded data removed]",
      "text/plain": [
       "<Figure size 432x288 with 1 Axes>"
      ]
     },
     "metadata": {},
     "output_type": "display_data"
    }
   ],
   "source": [
    "plt.plot(ns, l_avg_fpr_local, label='local_fpr')\n",
    "plt.plot(ns, l_avg_fpr_centralized, label='centralized_fpr')\n",
    "plt.plot(ns, l_avg_fnr_local, label='local_fnr')\n",
    "plt.plot(ns, l_avg_fnr_centralized, label='centralized_fnr')\n",
    "plt.legend()"
   ]
  },
  {
   "cell_type": "markdown",
   "metadata": {},
   "source": [
    "We can see that even at very small data quantities, the centralized model works almost perfectly. However, it takes much much more data for the local model to work well, and even after massive amounts of data it continues to have lots of false-negatives.\n",
    "\n",
    "(The fact that the initial FNR for the centralized model is so high might be a bug in calculating $t$ for extremely small, high-noise $n$.)"
   ]
  },
  {
   "cell_type": "code",
   "execution_count": null,
   "metadata": {},
   "outputs": [],
   "source": []
  }
 ],
 "metadata": {
  "kernelspec": {
   "display_name": "Python 3",
   "language": "python",
   "name": "python3"
  },
  "language_info": {
   "codemirror_mode": {
    "name": "ipython",
    "version": 3
   },
   "file_extension": ".py",
   "mimetype": "text/x-python",
   "name": "python",
   "nbconvert_exporter": "python",
   "pygments_lexer": "ipython3",
   "version": "3.6.8"
  }
 },
 "nbformat": 4,
 "nbformat_minor": 2
}
