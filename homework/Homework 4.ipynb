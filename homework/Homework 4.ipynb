{
 "cells": [
  {
   "cell_type": "markdown",
   "metadata": {},
   "source": [
    "# Homework 4 Submission\n",
    "## Yonadav Shavit"
   ]
  },
  {
   "cell_type": "code",
   "execution_count": 2,
   "metadata": {},
   "outputs": [
    {
     "name": "stdout",
     "output_type": "stream",
     "text": [
      "The autoreload extension is already loaded. To reload it, use:\n",
      "  %reload_ext autoreload\n"
     ]
    }
   ],
   "source": [
    "%load_ext autoreload\n",
    "%autoreload 2\n",
    "import numpy as np\n",
    "from scipy.special import factorial\n",
    "import pandas as pd\n",
    "import matplotlib.pyplot as plt\n",
    "from tqdm import tqdm_notebook"
   ]
  },
  {
   "cell_type": "markdown",
   "metadata": {},
   "source": [
    "(Let's define some latex commands)\n",
    " \n",
    "$\\newcommand{\\floor}[1]{\\left \\lfloor #1 \\right \\rfloor}$\n",
    "$\\newcommand{\\clamp}[1]{\\left [ #1 \\right ]}$\n",
    "$\\newcommand{\\lap}[1]{Lap\\left ( #1 \\right )}$\n",
    "$\\newcommand{\\lapcdf}[2]{LapCDF\\left ( #1, [-\\inf, #2] \\right )}$\n",
    "$\\newcommand{\\lappdf}[2]{LapPDF\\left ( #1, |_{#2} \\right )}$\n",
    "$\\newcommand{\\lapcdffull}[2]{\\frac{1}{2} + \\frac{1}{2}sgn\\left({#2}\\right)\\left ( 1 - \\exp{\\left ( - \\frac{|#2|}{#1} \\right ) }\\right )}$\n",
    "$\\newcommand{\\lappdffull}[2]{\\frac{1}{2 #1} \\exp{\\left ( - \\frac{#2}{#1}\\right ) }}$"
   ]
  },
  {
   "cell_type": "markdown",
   "metadata": {},
   "source": [
    "## Problem 1"
   ]
  },
  {
   "cell_type": "markdown",
   "metadata": {},
   "source": [
    "### (a)"
   ]
  },
  {
   "cell_type": "markdown",
   "metadata": {},
   "source": [
    "We'll be implementing two different mechanisms, both of which rely on an estimation of $p_j$.\n",
    "\n",
    "In the local DP case, we'll compute $I(x[j] = 0 \\land y = 1)$, and then return that value (or its conjugate) with probability $\\frac{e^\\epsilon}{1 + e^\\epsilon}$, and then scale that up by a factor of $c_\\epsilon = \\frac{e^\\epsilon + 1}{e^\\epsilon - 1}$.\n",
    "\n",
    "In the centralized DP case, we'll compute $\\frac{1}{n}\\sum_{i = 0}^n{I(x_i[j] = 0 \\land y_i = 1)}$, and then add Laplace noise of magnitude $\\frac{1}{n\\epsilon}$."
   ]
  },
  {
   "cell_type": "code",
   "execution_count": 3,
   "metadata": {},
   "outputs": [],
   "source": [
    "df = pd.read_csv(\"../data/hw4testdata.csv\")"
   ]
  },
  {
   "cell_type": "code",
   "execution_count": 9,
   "metadata": {},
   "outputs": [],
   "source": [
    "X_toy = df[[col for col in df.columns if \"x\" in col]]\n",
    "Y_toy = df['y']"
   ]
  },
  {
   "cell_type": "code",
   "execution_count": 11,
   "metadata": {},
   "outputs": [],
   "source": [
    "def local_pj(Xj, Y, epsilon):\n",
    "    n = Xj.shape[0]\n",
    "    eeps = e**epsilon\n",
    "    correct_vals = Xj == Y\n",
    "    randomize = np.random.binomial(1, eeps/(1+eeps), size=n).astype(bool)\n",
    "    randomized_vals = np.logical_xor(randomize, correct_vals)\n",
    "    c_e = (eeps + 1)/(eeps - 1)\n",
    "    return c_e*randomized_vals.mean()\n",
    "\n",
    "def lap_mechanism(epsilon, GS_q, size=None):\n",
    "    return np.random.laplace(scale=GS_q/epsilon, size=size)\n",
    "\n",
    "def dp_mean(x, epsilon, b, a=0):\n",
    "    x_clipped = np.clip(x, a, b)\n",
    "    GS_q = np.abs(b-a)/x.shape[0]\n",
    "    return x_clipped.mean() + lap_mechanism(epsilon, GS_q)\n",
    "\n",
    "def global_pj(Xj, Y, epsilon):\n",
    "    return dp_mean((Xj==Y).astype(int), epsilon, b=1)\n",
    "\n",
    "def sq_mechanism(X, Y, epsilon, t, pj_alg):\n",
    "    d = X.shape[1]\n",
    "    ps = np.array([pj_alg(X[:, j], Y, epsilon/d) for j in range(d)])\n",
    "    S = (ps < t).astype(int)\n",
    "    return S\n",
    "\n",
    "local_sq_mechanism = lambda *args: sq_mechanism(*args, local_pj)\n",
    "global_sq_mechanism = lambda *args: sq_mechanism(*args, global_pj)\n",
    "\n",
    "def compute_fpr_and_fnr(S, X, Y):\n",
    "    Yhat = np.prod(S*X, axis=1)\n",
    "    fpr = Yhat*(1-Y)\n",
    "    fnr = (1-Yhat)*Y\n",
    "    return fpr, fnr"
   ]
  },
  {
   "cell_type": "code",
   "execution_count": null,
   "metadata": {},
   "outputs": [],
   "source": [
    "local_S = local_sq_mechanism(X_toy, Y_toy, epsilon=1, t=0.5)\n",
    "global_S = global_sq_mechanism(X_toy, Y_toy, epsilon=1, t=0.5)\n",
    "\n",
    "# need to validate the method still?"
   ]
  },
  {
   "cell_type": "markdown",
   "metadata": {},
   "source": [
    "## (b)\n"
   ]
  },
  {
   "cell_type": "markdown",
   "metadata": {},
   "source": [
    "We will leverage the following approximation to the binomial distribution, which holds under large $n$:\n",
    "$$f(x)=\n",
    "\\frac{n !}{x !(n-x) !} p^{x} q^{n-x} \\approx \n",
    "\\mathcal{N}(np, npq) = \n",
    "\\frac{1}{\\sqrt{2 \\pi n p q}} e^{-(x-n p)^{2} / 2 n p q} $$"
   ]
  },
  {
   "cell_type": "markdown",
   "metadata": {},
   "source": [
    "First, we'll think about the local model.\n",
    "Let's examine the probability that $p_j$ is included in $\\hat{S}$ but not $S$ (i.e. false inclusion):\n"
   ]
  },
  {
   "cell_type": "markdown",
   "metadata": {},
   "source": [
    "Examine the probability of false exclusion"
   ]
  },
  {
   "cell_type": "markdown",
   "metadata": {},
   "source": [
    "Combine into total error by addition + union bound"
   ]
  },
  {
   "cell_type": "markdown",
   "metadata": {},
   "source": [
    "Then do false positives in global model"
   ]
  },
  {
   "cell_type": "markdown",
   "metadata": {},
   "source": [
    "False negatives in global model"
   ]
  },
  {
   "cell_type": "markdown",
   "metadata": {},
   "source": [
    "combine total error by addition + union bound"
   ]
  },
  {
   "cell_type": "code",
   "execution_count": null,
   "metadata": {},
   "outputs": [],
   "source": []
  },
  {
   "cell_type": "markdown",
   "metadata": {},
   "source": [
    "Probably do this for each individual j and then show the union bound"
   ]
  },
  {
   "cell_type": "markdown",
   "metadata": {},
   "source": [
    "## (c)\n"
   ]
  },
  {
   "cell_type": "markdown",
   "metadata": {},
   "source": []
  },
  {
   "cell_type": "code",
   "execution_count": null,
   "metadata": {},
   "outputs": [],
   "source": []
  }
 ],
 "metadata": {
  "kernelspec": {
   "display_name": "Python 3",
   "language": "python",
   "name": "python3"
  },
  "language_info": {
   "codemirror_mode": {
    "name": "ipython",
    "version": 3
   },
   "file_extension": ".py",
   "mimetype": "text/x-python",
   "name": "python",
   "nbconvert_exporter": "python",
   "pygments_lexer": "ipython3",
   "version": "3.6.6"
  }
 },
 "nbformat": 4,
 "nbformat_minor": 2
}
