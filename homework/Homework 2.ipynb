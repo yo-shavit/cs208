{
 "cells": [
  {
   "cell_type": "markdown",
   "metadata": {},
   "source": [
    "# Homework 2 Submission\n",
    "## Yonadav Shavit"
   ]
  },
  {
   "cell_type": "code",
   "execution_count": 48,
   "metadata": {},
   "outputs": [
    {
     "name": "stdout",
     "output_type": "stream",
     "text": [
      "The autoreload extension is already loaded. To reload it, use:\n",
      "  %reload_ext autoreload\n"
     ]
    }
   ],
   "source": [
    "%load_ext autoreload\n",
    "%autoreload 2\n",
    "import numpy as np\n",
    "from scipy.special import factorial\n",
    "import matplotlib.pyplot as plt\n",
    "from tqdm import tqdm_notebook"
   ]
  },
  {
   "cell_type": "markdown",
   "metadata": {},
   "source": [
    "(Let's define some latex commands)\n",
    " \n",
    "$\\newcommand{\\floor}[1]{\\left \\lfloor #1 \\right \\rfloor}$\n",
    "$\\newcommand{\\clamp}[1]{\\left [ #1 \\right ]}$\n",
    "$\\newcommand{\\lap}[1]{Lap\\left ( #1 \\right )}$\n",
    "$\\newcommand{\\lapcdf}[2]{LapCDF\\left ( #1, [-\\inf, #2] \\right )}$\n",
    "$\\newcommand{\\lappdf}[2]{LapPDF\\left ( #1, |_{#2} \\right )}$\n",
    "$\\newcommand{\\lapcdffull}[2]{\\frac{1}{2} + \\frac{1}{2}sgn\\left({#2}\\right)\\left ( 1 - \\exp{\\left ( - \\frac{|#2|}{#1} \\right ) }\\right )}$\n",
    "$\\newcommand{\\lappdffull}[2]{\\frac{1}{2 #1} \\exp{\\left ( - \\frac{#2}{#1}\\right ) }}$"
   ]
  },
  {
   "cell_type": "markdown",
   "metadata": {},
   "source": [
    "## Problem 1"
   ]
  },
  {
   "cell_type": "markdown",
   "metadata": {},
   "source": [
    "## i. $M(x) = \\clamp{\\overline{x} + Z}_0^1$ where $Z \\sim \\lap{\\frac{2}{n}}$ \n",
    "### a. \n",
    "This mechanism meets the definition of perfect DP for $\\epsilon = \\frac{1}{2}$. To see why, note that the global sensitivity of the mean $GS = \\frac{1}{n}$.\n",
    "For the range $0 < y < 1$, $ \\bar x + \\lap{\\frac{2}{n}}$ is just the Laplace mechanism with $\\epsilon = \\frac{1}{2}$ (because $\\frac{GS}{\\epsilon} = \\frac{2}{n}$ implies $\\epsilon = \\frac{1}{2}$), so the DP property obviously holds in that range.\n",
    "For $y = 0$, we simply argue that since the DP property applies to sets of results and the Laplace mechanism satisfies DP. The probability of a result of $M(X) = 0$ is equivalent to the set of all results $ x\\bar + \\lap{\\frac{2}{n}} < 0$, and the query \"is the response in this set\" must also be differentially private.\n",
    "The same reasoning holds for $y = 1$. "
   ]
  },
  {
   "cell_type": "markdown",
   "metadata": {},
   "source": [
    "### c. \n",
    "A mechanism with custom $\\epsilon$ and bounds $[a, b]$ would be:\n",
    "$$ M(x) = \\clamp{\\overline{x} + Z}_a^b ~~~\\text{where}~~~ Z \\sim \\lap{\\frac{1}{\\epsilon n}}$$"
   ]
  },
  {
   "cell_type": "markdown",
   "metadata": {},
   "source": [
    "## ii.  $M(x) = \\bar x + \\clamp{Z}_{-1}^1$ where $Z \\sim \\lap{\\frac{2}{n}}$ "
   ]
  },
  {
   "cell_type": "markdown",
   "metadata": {},
   "source": [
    "### a + b.\n",
    "This mechanism does not satisfy DP, because for two neighboring datasets $X$ and $X'$, their means will be different, and since the range of $Z$ is clamped, that implies that each will have some probability of yielding a value that has $0$ probability for its neighbor.\n",
    "\n",
    "However, we can still calculate the minimal $\\delta$ for a given $n$. Let's assume that $\\epsilon = \\frac{1}{2}$, meaning that when $-1<Z<1$, the mechanism is simply the Laplace mechanism, and so there will be no \"violations\" of $\\epsilon$-DP to contribute to $\\delta$.\n",
    "Thus, the only region that might contribute is the tails, specifically one tail (since we calculate $\\delta^*$ by looking only at regions where the probability of a value for $X$ exceeds $e^{\\epsilon}$ times the probability for its neighbor, and not the reverse). \n",
    "\n",
    "Let's assume that $X'$ is a neighbor of $X$ where one $0$ is flipped to a $1$. Then, to find the regions where $X$ is more probable, we need only look in two places. First, at the range $[ \\bar X - 1, \\bar X - 1 +\\frac{1}{n})$, since this is the  is the region at which $X$ is nonzero but $X'$ is zero.\n",
    "For all other regions, we know the mechanism is DP from previous gaurantees - except at the point that all of $M(X)$'s upper mass is concentrated at, $\\bar X + 1$, where $M(X)$ has a spike of probability.\n",
    "\n",
    "The total excess probability in this spike is:"
   ]
  },
  {
   "cell_type": "markdown",
   "metadata": {},
   "source": [
    "$$ \\delta_{spike} = 1 - \\lapcdf{\\frac{2}{n}}{1} - \\lappdf{\\frac{2}{n}}{1-\\frac{1}{n}}= $$\n",
    "$$ = 1 - \\left ( \\lapcdffull{\\frac{2}{n}}{1} \\right )  - \\lappdffull{\\frac{2}{n}}{1-\\frac{1}{n}}$$"
   ]
  },
  {
   "cell_type": "markdown",
   "metadata": {},
   "source": [
    "$$ = \\frac{1}{2}\\exp{\\left ( -\\frac{n}{2} \\right ) } - \\frac{n}{4} \\exp{\\left ( - \\frac{n-1}{2}\\right ) }$$\n",
    "$$ = \\left (\\frac{1}{2} - \\frac{n\\sqrt{e}}{4} \\right )\\exp{\\left ( -\\frac{n}{2} \\right ) }$$"
   ]
  },
  {
   "cell_type": "markdown",
   "metadata": {},
   "source": [
    "We can also calculate the probability in the region in which $X$ has nonzero probability but $X'$ does not:"
   ]
  },
  {
   "cell_type": "markdown",
   "metadata": {},
   "source": [
    "$$\\delta_{region} = \\lapcdf{\\frac{2}{n}}{-1}$$\n",
    "$$= \\lapcdffull{\\frac{2}{n}}{-1}$$"
   ]
  },
  {
   "cell_type": "markdown",
   "metadata": {},
   "source": [
    "$$ = \\frac{1}{2}\\exp{\\left(-\\frac{1}{2}\\right)}$$"
   ]
  },
  {
   "cell_type": "markdown",
   "metadata": {},
   "source": [
    "Thus, our final minimal $\\delta$ is\n",
    "$$\\delta^* = \\delta_{spike} + \\delta_{region} $$ \n",
    "$$ = \\frac{1}{2}\\exp{\\left(-\\frac{1}{2}\\right)} + \\left (\\frac{1}{2} - \\frac{n\\sqrt{e}}{4} \\right )\\exp{\\left ( -\\frac{n}{2} \\right ) }$$"
   ]
  },
  {
   "cell_type": "markdown",
   "metadata": {},
   "source": [
    "### c.\n",
    "A better mechanism, preserving $(\\epsilon, \\delta)$-DP and accepting values in the range of $[a, b]$, would be:\n",
    "$$ M(x) = \\bar X + \\clamp{Z}^b_a ~~~\\text{where}~~~ Z \\sim \\lap{\\frac{b-a}{\\epsilon n}}$$\n",
    "In this case, there is still a $\\delta > 0$ ; to get rid of that, revert to the mechanism recommended in (i). "
   ]
  },
  {
   "cell_type": "markdown",
   "metadata": {},
   "source": [
    "## iii.\n",
    "### a. \n",
    "This mechanism is definitely not $(\\epsilon, 0)$-DP. Consider the dataset of all zeros, and its neighbor in which a single element is flipped to a 1. If you ever see a $1$, you know with absolute certainty that the dataset is not all zeros."
   ]
  },
  {
   "cell_type": "markdown",
   "metadata": {},
   "source": [
    "### b.\n",
    "We can compute an appropriate $\\delta$ as follows.\n",
    "Assume we have privacy loss parameter $\\epsilon$, and a dataset of size $n$. Further, assume that $X$ is our dataset, and $X$ is the same dataset with a single 1 flipped to 0. (The violation will be equivalent for all datasets.)\n",
    "We know that our response will violate $\\epsilon$-DP only when $M(X) = 1$, since $P(M(X) = 0) < P(M(\\bar X) = 0)$.\n",
    "Thus, we can calculate $\\delta$ as:"
   ]
  },
  {
   "cell_type": "markdown",
   "metadata": {},
   "source": [
    "$$ \\delta^* = \\max_x{\\left(\\bar x - e^{\\epsilon}\\left(\\bar x - \\frac{1}{n} \\right )\\right )} $$\n",
    "$$ = \\max_x{\\left(\\bar x (1 - e^{\\epsilon}) + \\frac{e^\\epsilon}{n}\\right )} $$"
   ]
  },
  {
   "cell_type": "markdown",
   "metadata": {},
   "source": [
    "This term is maximized when $X$ is the dataset of all $0$s (because $1 - e^\\epsilon$ is always negative), such that"
   ]
  },
  {
   "cell_type": "markdown",
   "metadata": {},
   "source": [
    "$$ \\delta^* = \\frac{e^\\epsilon}{n}$$\n",
    "Note that this is really bad - randomly returning an element of the dataset yields $\\delta = \\frac{1}{n}$, and this is always greater than that."
   ]
  },
  {
   "cell_type": "markdown",
   "metadata": {},
   "source": [
    "### c.\n",
    "If you really want a mechanism like this, you can return $1$ with probability $\\clamp{\\bar x + Z}_0^1$, where $Z \\sim \\lap{\\frac{b-a}{\\epsilon n}}$, and $0$ otherwise."
   ]
  },
  {
   "cell_type": "markdown",
   "metadata": {},
   "source": [
    "## iv.\n",
    "### a.\n",
    "This mechanism is $(\\frac{1}{10}, 0)$-DP. To see why, notice that the mechanism happens to be equivalent to a Laplace mechanism with $\\epsilon = \\frac{1}{10}$, except that whenever the range is outside $[0, 1]$, the value is discarded. (Thus the values within this range are proportionally scaled up.)\n",
    "\n",
    "The fact that these outside values are \"discarded\" is also done in a DP way, since whether $M(x)$ falls into these tails is just a set of outcomes, and the Laplace mechanism guarantees DP w.r.t. the result being in these sets."
   ]
  },
  {
   "cell_type": "markdown",
   "metadata": {},
   "source": [
    "### c.\n",
    "The only change is that the numerator should be $\\frac{1}{\\epsilon}$ instead of $10$, and the values should be zeroed outside the range of $[a, b]$. (The integral bounds should be adjusted accordingly.)"
   ]
  },
  {
   "cell_type": "markdown",
   "metadata": {},
   "source": [
    "### d.\n",
    "I think the best mechanism is the final mechanism, i.e. the exponential mechanism, because it returns values that are within the expected range, and also normalized so that you don't get a spike at $a$ and $b$."
   ]
  },
  {
   "cell_type": "markdown",
   "metadata": {},
   "source": [
    "## Problem 2"
   ]
  },
  {
   "cell_type": "markdown",
   "metadata": {},
   "source": [
    "### (a)"
   ]
  },
  {
   "cell_type": "code",
   "execution_count": 49,
   "metadata": {},
   "outputs": [],
   "source": [
    "def poisson_pdf(k):\n",
    "    return 10**k*np.exp(-10)/factorial(k)\n",
    "\n",
    "poisson_cdf_table = [poisson_pdf(0)] # seed it with the 0-th element\n",
    "def poisson_cdf(k):\n",
    "    k_computed = len(poisson_cdf_table) - 1\n",
    "    if k <= k_computed:\n",
    "        return poisson_cdf_table[k]\n",
    "    else:\n",
    "        sum_so_far = poisson_cdf_table[-1]\n",
    "        for i in range(k_computed + 1, k + 1):\n",
    "            pdf_i = poisson_pdf(i)\n",
    "            sum_so_far += pdf_i\n",
    "            poisson_cdf_table.append(sum_so_far)\n",
    "        return sum_so_far\n",
    "\n",
    "def poisson_inv_cdf(v):\n",
    "    # value between 0 and 1, to be converted into a probability\n",
    "    assert v <= 1 and v > 0\n",
    "    while v > poisson_cdf_table[-1]:\n",
    "        poisson_cdf(len(poisson_cdf_table) + 100) # calculate a hundred more elements\n",
    "    else:\n",
    "        for k, cdf_k in enumerate(poisson_cdf_table):\n",
    "            if v < cdf_k:\n",
    "                return k\n",
    "\n",
    "def poisson_samples(n):\n",
    "    samples = [poisson_inv_cdf(np.random.rand()) for i in range(n)]\n",
    "    return np.asarray(samples)"
   ]
  },
  {
   "cell_type": "markdown",
   "metadata": {},
   "source": [
    "### (b)\n",
    "\n",
    "We'll implement the Laplace mechanism over a clamped range [a, b]"
   ]
  },
  {
   "cell_type": "code",
   "execution_count": 190,
   "metadata": {},
   "outputs": [],
   "source": [
    "def lap_mechanism(epsilon, GS_q, size=None):\n",
    "    return np.random.laplace(scale=GS_q/epsilon, size=size)\n",
    "\n",
    "def dp_mean(x, epsilon, b, a=0):\n",
    "    x_clipped = np.clip(x, a, b)\n",
    "    GS_q = np.abs(b-a)/x.shape[0]\n",
    "    return x_clipped.mean() + lap_mechanism(epsilon, GS_q)"
   ]
  },
  {
   "cell_type": "markdown",
   "metadata": {},
   "source": [
    "### (c)"
   ]
  },
  {
   "cell_type": "code",
   "execution_count": 191,
   "metadata": {},
   "outputs": [
    {
     "data": {
      "application/vnd.jupyter.widget-view+json": {
       "model_id": "44b9a36722424add9fd5f65e439455ab",
       "version_major": 2,
       "version_minor": 0
      },
      "text/plain": [
       "HBox(children=(IntProgress(value=0), HTML(value='')))"
      ]
     },
     "metadata": {},
     "output_type": "display_data"
    }
   ],
   "source": [
    "n = 200\n",
    "eps = .5\n",
    "b_range = range(10, 30)\n",
    "trials = 100\n",
    "estimation_errors = np.zeros(shape=len(b_range))\n",
    "for trial in tqdm_notebook(range(trials)):\n",
    "    x = poisson_samples(n)\n",
    "    true_mean = x.mean()\n",
    "    estimated_means = np.array([dp_mean(x, eps, b) for b in b_range])\n",
    "    estimation_errors += (estimated_means - true_mean)**2\n",
    "estimation_errors = estimation_errors/trials"
   ]
  },
  {
   "cell_type": "code",
   "execution_count": 192,
   "metadata": {},
   "outputs": [
    {
     "data": {
      "text/plain": [
       "Text(0.5, 1.0, 'MSE in reported mean as a function of clipping size b')"
      ]
     },
     "execution_count": 192,
     "metadata": {},
     "output_type": "execute_result"
    },
    {
     "data": {
      "image/png": "[encoded data removed]",
      "text/plain": [
       "<Figure size 432x288 with 1 Axes>"
      ]
     },
     "metadata": {},
     "output_type": "display_data"
    }
   ],
   "source": [
    "plt.plot(b_range, estimation_errors, 'r-x')\n",
    "plt.xlabel(\"b\")\n",
    "plt.ylabel(\"MSE\")\n",
    "plt.title(\"MSE in reported mean as a function of clipping size b\")"
   ]
  },
  {
   "cell_type": "markdown",
   "metadata": {},
   "source": [
    "From our experiment, we can see that the optimal b value to minimize mean squared error $b^* = 17$ for this example."
   ]
  },
  {
   "cell_type": "markdown",
   "metadata": {},
   "source": [
    "### (d)\n",
    "\n",
    "Individual values in the dataset may significantly affect our above procedure. If a particular value is an outlier, the smaller $b$ is, the more that value gets clipped. (In fact, the impact of the size of the clipping induced by $b$ is quadratic because we're looking at squared error.) So that value would influence the choice of $b$ across any bootstrap subset of the data in which it was included, and an adversary could use the fact that the final $b$ was higher than might have been otherwise expected from the rest of the population to extract that that individual was likely in the dataset."
   ]
  },
  {
   "cell_type": "markdown",
   "metadata": {},
   "source": [
    "### (e)\n",
    "\n",
    "One alternative method is to simply use domain expertise about the likely range of values to set a reasonable $b$ (without looking at the data). So long as this is done independent of the practitioner's knowledge of the data itself, this is differentially private.\n",
    "\n",
    "Alternatively, if we could compute a differentially private maximum (perhaps via an exponential mechanism), then we could set that as $b$. It might in practice be far from $b^*$, but it will still be narrower than \"infinity\". (Similarly, we could pick the 9/10ths largest value in a DP way using the exponential mechanism in more or less the same way that we find the median, but weighted.)"
   ]
  },
  {
   "cell_type": "markdown",
   "metadata": {},
   "source": [
    "## Problem 3"
   ]
  },
  {
   "cell_type": "markdown",
   "metadata": {},
   "source": [
    "### (a)"
   ]
  },
  {
   "cell_type": "code",
   "execution_count": 244,
   "metadata": {},
   "outputs": [],
   "source": [
    "def regression(x, y):\n",
    "    Sxy = np.sum((x-x.mean())*(y-y.mean()))\n",
    "    Sxx = np.sum((x-x.mean())*(y-y.mean()))\n",
    "    beta = Sxy/Sxx\n",
    "    alpha = np.mean(y - beta*x)\n",
    "    return alpha, beta\n",
    "    \n",
    "def dp_regression(x, y, eps, xmin, xmax, ymin, ymax, eps_beta_fraction=0.5):\n",
    "    x = np.clip(x, xmin, xmax)\n",
    "    y = np.clip(y, ymin, ymax)\n",
    "    \n",
    "    Sxy = np.sum((x-x.mean())*(y-y.mean()))\n",
    "    Sxx = np.sum((x-x.mean())*(y-y.mean()))\n",
    "    true_beta = Sxy/Sxx # TODO: remove\n",
    "    # add Laplace noise\n",
    "    corner_values = [xmin*ymin, xmin*ymax, xmax*ymin, xmax*ymax]\n",
    "    GS_Sxy = max(corner_values) - min(corner_values)\n",
    "    GS_Sxy = (ymax-ymin)*(xmax-xmin)\n",
    "    GS_Sxx = (xmax-xmin)**2\n",
    "    \n",
    "    eps_beta = eps*eps_beta_fraction\n",
    "    Sxy += lap_mechanism(eps_beta/2, GS_Sxy)\n",
    "    Sxx += lap_mechanism(eps_beta/2, GS_Sxx)\n",
    "    beta = Sxy/Sxx\n",
    "    \n",
    "    # now do DP mean release \n",
    "    eps_alpha = eps - eps_beta\n",
    "    if beta > 0:\n",
    "        a = ymin - xmin*beta\n",
    "        b = ymax - xmax*beta\n",
    "    else:\n",
    "        a = ymax - xmax*beta\n",
    "        b = ymin - xmin*beta\n",
    "    alpha = dp_mean(y - beta*x, eps_alpha, a=a, b=b)\n",
    "#     print(\"beta: {:0.2f}, true_beta: {:0.2f}, mean_miss: {:0.2f}, true_mean_miss: {:0.2f}\".format(\n",
    "#         beta,\n",
    "#         true_beta,\n",
    "#         np.mean(y-beta*x),\n",
    "#         np.mean(y-true_beta*x)))\n",
    "    \n",
    "    return alpha, beta\n",
    "\n",
    "def regression_samples(n, alpha=1, beta=1, sigma=1.):\n",
    "    x = poisson_samples(n)\n",
    "    y = beta*x + alpha + np.random.normal(scale=sigma, size=x.shape[0])\n",
    "    return x, y\n",
    "\n",
    "def regression_mse(x, y, alpha, beta):\n",
    "    return np.mean((y - (alpha + beta*x))**2)"
   ]
  },
  {
   "cell_type": "markdown",
   "metadata": {},
   "source": [
    "### (b)"
   ]
  },
  {
   "cell_type": "code",
   "execution_count": 249,
   "metadata": {
    "scrolled": true
   },
   "outputs": [
    {
     "data": {
      "application/vnd.jupyter.widget-view+json": {
       "model_id": "fa24d36bfbd64ec09d21ef078de38271",
       "version_major": 2,
       "version_minor": 0
      },
      "text/plain": [
       "HBox(children=(IntProgress(value=0), HTML(value='')))"
      ]
     },
     "metadata": {},
     "output_type": "display_data"
    }
   ],
   "source": [
    "trials = 100\n",
    "n = 1000\n",
    "eps = 1\n",
    "# we'll pick our upper bound based on the likely range of values\n",
    "# specifically, 99.9% of values fall within this range\n",
    "# (we aren't using the specific individuals in our sample - \n",
    "# only known properties of the distribution)\n",
    "xmax = poisson_inv_cdf(0.999)\n",
    "# more arbitrarily, if we assume the magnitude of the slope is less than 10 from prior knowledge\n",
    "guessed_max_slope = 10\n",
    "ymin = -guessed_max_slope*xmax\n",
    "ymax = guessed_max_slope*xmax\n",
    "\n",
    "np_mses = []\n",
    "dp_mses = []\n",
    "for trial in tqdm_notebook(range(trials)):\n",
    "    x, y = regression_samples(n)\n",
    "    alpha_np, beta_np = regression(x, y)\n",
    "    alpha_dp, beta_dp = dp_regression(x, y, eps, xmin=0, xmax=xmax, ymin=ymin, ymax=ymax)\n",
    "    np_mses.append(regression_mse(x, y, alpha_np, beta_np))\n",
    "    dp_mses.append(regression_mse(x, y, alpha_dp, beta_dp))"
   ]
  },
  {
   "cell_type": "code",
   "execution_count": 253,
   "metadata": {},
   "outputs": [
    {
     "data": {
      "text/plain": [
       "Text(0.5, 1.0, 'Example regression')"
      ]
     },
     "execution_count": 253,
     "metadata": {},
     "output_type": "execute_result"
    },
    {
     "data": {
      "image/png": "[encoded data removed]",
      "text/plain": [
       "<Figure size 432x288 with 1 Axes>"
      ]
     },
     "metadata": {},
     "output_type": "display_data"
    }
   ],
   "source": [
    "plt.plot(x, y, 'rx')\n",
    "plt.plot(x, x*beta_dp + alpha_dp, label=\"dp\")\n",
    "plt.plot(x, x*beta_np + alpha_np, label=\"no privacy\")\n",
    "plt.legend()\n",
    "plt.title(\"Example regression\")"
   ]
  },
  {
   "cell_type": "code",
   "execution_count": 255,
   "metadata": {},
   "outputs": [
    {
     "name": "stdout",
     "output_type": "stream",
     "text": [
      "Average MSE across trials, with DP: 22364.53, w/o DP: 1.00\n"
     ]
    }
   ],
   "source": [
    "print(\"Average MSE across trials, with DP: {:0.2f}, w/o DP: {:0.2f}\".format(np.mean(dp_mses), np.mean(np_mses)))"
   ]
  },
  {
   "cell_type": "markdown",
   "metadata": {},
   "source": [
    "Clearly, DP substantially degrades utility."
   ]
  },
  {
   "cell_type": "code",
   "execution_count": 257,
   "metadata": {},
   "outputs": [
    {
     "data": {
      "text/plain": [
       "Text(0, 0.5, 'frequency')"
      ]
     },
     "execution_count": 257,
     "metadata": {},
     "output_type": "execute_result"
    },
    {
     "data": {
      "image/png": "[encoded data removed]",
      "text/plain": [
       "<Figure size 720x288 with 2 Axes>"
      ]
     },
     "metadata": {},
     "output_type": "display_data"
    }
   ],
   "source": [
    "def ignore_outliers(z, max_dev=3.5):\n",
    "    z = np.array(z)\n",
    "    outlier_inds = np.abs(z - z.mean()) > np.std(z)*max_dev\n",
    "    return z[np.logical_not(outlier_inds)]\n",
    "    \n",
    "bins = 20\n",
    "fig, axs = plt.subplots(ncols=2, figsize=(10, 4))\n",
    "plt.sca(axs[0])\n",
    "plt.hist(ignore_outliers(np_mses), bins=bins);\n",
    "plt.title(\"Non-private regression MSEs\")\n",
    "plt.xlabel(\"MSE\")\n",
    "plt.ylabel(\"frequency\")\n",
    "plt.sca(axs[1])\n",
    "plt.hist(ignore_outliers(dp_mses), \n",
    "         histtype='barstacked',\n",
    "         bins=bins);\n",
    "plt.title(\"DP regression MSEs (with eps=0.5 for both alpha and beta)\")\n",
    "plt.xlabel(\"MSE\")\n",
    "plt.ylabel(\"frequency\")"
   ]
  },
  {
   "cell_type": "markdown",
   "metadata": {},
   "source": [
    "The distribution of residuals is much much higher when doing differentially private regression. After interrogating this for a while, the problem seems to be as follows:\n",
    "\n",
    "When we spend an insufficient portion of our $\\epsilon$ on estimating the slope, the estimate of the slope is off - which then makes the estimate of the intercept way, way off. Once the intercept is much larger or smaller than 1, almost every point will miss by that amount. This leads to enormous squared errors for nearly every point.\n"
   ]
  },
  {
   "cell_type": "markdown",
   "metadata": {},
   "source": [
    "### (c)\n",
    "\n",
    "Let's see whether we can't find a better allocation of epsilons."
   ]
  },
  {
   "cell_type": "code",
   "execution_count": 273,
   "metadata": {},
   "outputs": [
    {
     "data": {
      "application/vnd.jupyter.widget-view+json": {
       "model_id": "fbaae5bd825144d39c9fb5d9eb3b19a1",
       "version_major": 2,
       "version_minor": 0
      },
      "text/plain": [
       "HBox(children=(IntProgress(value=0), HTML(value='')))"
      ]
     },
     "metadata": {},
     "output_type": "display_data"
    }
   ],
   "source": [
    "trials = 200\n",
    "eps_beta_fraction_range = np.linspace(.1, .9, 100)\n",
    "avg_dp_mses = []\n",
    "for eps_beta_fraction in tqdm_notebook(eps_beta_fraction_range):\n",
    "    dp_mses = []\n",
    "    for trial in range(trials):\n",
    "        x, y = regression_samples(n)\n",
    "        alpha_np, beta_np = regression(x, y)\n",
    "        alpha_dp, beta_dp = dp_regression(x, y, eps, xmin=0, xmax=xmax, ymin=ymin, ymax=ymax,\n",
    "                                          eps_beta_fraction=eps_beta_fraction)\n",
    "        np_mses.append(regression_mse(x, y, alpha_np, beta_np))\n",
    "        dp_mses.append(regression_mse(x, y, alpha_dp, beta_dp))\n",
    "    avg_dp_mses.append(np.mean(dp_mses))"
   ]
  },
  {
   "cell_type": "code",
   "execution_count": 286,
   "metadata": {},
   "outputs": [
    {
     "name": "stdout",
     "output_type": "stream",
     "text": [
      "Best eps fraction: 0.86\n"
     ]
    },
    {
     "data": {
      "image/png": "[encoded data removed]",
      "text/plain": [
       "<Figure size 720x288 with 2 Axes>"
      ]
     },
     "metadata": {},
     "output_type": "display_data"
    }
   ],
   "source": [
    "plt.figure(figsize=(10, 4))\n",
    "plt.subplot(1, 2, 1)\n",
    "plt.plot(eps_beta_fraction_range, avg_dp_mses);\n",
    "plt.title(\"MSE varying with eps frac devoted to beta\")\n",
    "plt.xlabel(\"Fraction of epsilon devoted to finding beta\")\n",
    "plt.ylabel(\"Average MSE over {} runs\".format(trials))\n",
    "best_eps_fraction = eps_beta_fraction_range[np.argmin(avg_dp_mses)]\n",
    "plt.subplot(1, 2, 2)\n",
    "range_top = np.argmin(avg_dp_mses) + 20\n",
    "range_bottom = np.argmin(avg_dp_mses) - 20\n",
    "plt.plot(eps_beta_fraction_range[range_bottom:range_top],\n",
    "         avg_dp_mses[range_bottom:range_top]);\n",
    "plt.title(\"Narrowing in\")\n",
    "plt.xlabel(\"Fraction of epsilon devoted to finding beta\")\n",
    "plt.ylabel(\"Average MSE over {} runs\".format(trials))\n",
    "plt.tight_layout()\n",
    "print(\"Best eps fraction: {:0.2f}\".format(best_eps_fraction))"
   ]
  },
  {
   "cell_type": "markdown",
   "metadata": {},
   "source": [
    "As we expected we can see that it's much better to devote more of the epsilon to finding an accurate slope (optimally around $0.85$) - \n",
    "with the idea being that any error in the slope quickly translates to a greater error in the intercept.\n",
    "Hence, we want to allocate epsilon to minimize this double-counting of error.\n",
    "\n",
    "One sidenote: even the optimized version of this performs very, very poorly, and that's even after assuming that our slopes exist in a fairly narrow range ($\\pm 10$)."
   ]
  },
  {
   "cell_type": "markdown",
   "metadata": {},
   "source": [
    "## Problem 4."
   ]
  },
  {
   "cell_type": "markdown",
   "metadata": {},
   "source": [
    "Let's write out the problem.\n",
    "$$ E[\\#\\{ i \\in [n] : A(M(X))_i = X_i\\}/n]$$\n",
    "$$ = \\frac{1}{n} \\sum_{i=1}^n E[A(M(X))_i == X_i] $$\n",
    "by linearity of expectation. Let's focus on a single such example $i$.\n",
    "\n",
    "Let $X^{(i)}$ be the dataset identical to $X$, except that row $i$ is replaced with value $0$. Obviously, all such datasets are neighbors of $X$ (or the same as $X$), and so DP properties should hold (if they're the same, the ineqality holds because the equality holds).\n",
    "\n",
    "Assume that, for a set of outputs $s \\in S$, if $M(X) = s$ our adversary guesses that $A(s)_i = X_i$.\n",
    "$$ E[A(M(X))_i == X_i] = P(M(X) \\in S) \\leq e^\\epsilon P(M(X^{(i)} \\in S) + \\delta$$\n",
    "$$P(M(X^{(i)}) \\in S) = E[A(M(X^{(i)})) = X^{(i)}_i] = 1-p$$\n",
    "because there's only a $1-p$ probability that $X_i$ happened to be 0.\n",
    "\n",
    "Thus, we have that\n",
    "$$ E[\\#\\{ i \\in [n] : A(M(X))_i = X_i\\}/n]$$\n",
    "$$ = \\frac{1}{n} \\sum_{i=1}^n E[A(M(X))_i == X_i] $$\n",
    "$$ \\leq \\frac{1}{n} \\sum_{i=1}^n \\left ( e^\\epsilon (1-p) + \\delta \\right ) $$\n",
    "$$ = e^\\epsilon (1-p) + \\delta $$\n",
    "This seems to complete one half of the desired $\\max{\\left \\{ p, 1-p\\right \\}}$, but repeating this procedure twice would suggest the bound is the min of these two bounds - which suggests to me that I've erred somewhere in this derivation.\n",
    "But I'm not sure where, and have run out of time :("
   ]
  },
  {
   "cell_type": "markdown",
   "metadata": {},
   "source": [
    "## Problem 5\n",
    "Emailed separately."
   ]
  },
  {
   "cell_type": "code",
   "execution_count": null,
   "metadata": {},
   "outputs": [],
   "source": []
  }
 ],
 "metadata": {
  "kernelspec": {
   "display_name": "Python 3",
   "language": "python",
   "name": "python3"
  },
  "language_info": {
   "codemirror_mode": {
    "name": "ipython",
    "version": 3
   },
   "file_extension": ".py",
   "mimetype": "text/x-python",
   "name": "python",
   "nbconvert_exporter": "python",
   "pygments_lexer": "ipython3",
   "version": "3.6.6"
  }
 },
 "nbformat": 4,
 "nbformat_minor": 2
}
