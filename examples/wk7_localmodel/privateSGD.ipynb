{
 "cells": [
  {
   "cell_type": "markdown",
   "metadata": {},
   "source": [
    "## Previously defined functions"
   ]
  },
  {
   "cell_type": "code",
   "execution_count": null,
   "metadata": {},
   "outputs": [],
   "source": [
    "## Here is the likelihood function for a Logit\n",
    "calcllik<-function(b,data){           \n",
    "  y<-data[,1]\n",
    "  x<-data[,2]\n",
    "\n",
    "  pi<- 1/(1+exp(-b[1] - b[2]*x))        # Here is the systematic component\n",
    "  llik<-y * log(pi) + (1-y) * log(1-pi) # Here is the stocastic component\n",
    "    \n",
    "  return(-llik)\n",
    "}\n",
    "\n",
    "## Differentially private mean release\n",
    "gaussianReleaseNoise <- function(size=1, sensitivity, epsilon, delta){\n",
    "\tscale <- sensitivity *log(1.25/delta)/ epsilon\n",
    "\tnoise <- rnorm(n=size, mean=0, sd=scale)\n",
    "\treturn(noise)\n",
    "}\n",
    "\n",
    "## Bound/Censor/Clip a variable to a range\n",
    "clip <- function(x, lower, upper){\n",
    "\tx.clipped <- x\n",
    "\tx.clipped[x.clipped<lower] <- lower\n",
    "\tx.clipped[x.clipped>upper] <- upper\n",
    "\treturn(x.clipped)\t\n",
    "}"
   ]
  },
  {
   "cell_type": "markdown",
   "metadata": {},
   "source": [
    "## Run with actual data"
   ]
  },
  {
   "cell_type": "code",
   "execution_count": null,
   "metadata": {},
   "outputs": [],
   "source": [
    "library(\"foreign\")\n",
    "PUMSdata <- read.csv(file=\"https://raw.githubusercontent.com/privacytoolsproject/cs208/master/data/MaPUMS5full.csv\")     \n",
    "\n",
    "\n",
    "mydata<-PUMSdata[c(\"married\",\"educ\")]\n",
    "\n",
    "output <- glm(married ~ educ, family=\"binomial\", data=mydata)\n",
    "\n",
    "print(summary(output))"
   ]
  },
  {
   "cell_type": "markdown",
   "metadata": {},
   "source": [
    "## Show the estimated model"
   ]
  },
  {
   "cell_type": "code",
   "execution_count": null,
   "metadata": {},
   "outputs": [],
   "source": [
    "xseq <- seq(from=-40, to=60, length=100)\n",
    "f <- 1/(1 + exp(-output$coef[1] -output$coef[2]*xseq))\n",
    "\n",
    "par(mfcol=c(2,1))\n",
    "\n",
    "plot(xseq, f, type=\"l\", lwd=1.5, col=\"red\", ylim=c(0,1), ylab=\"E(y|x,theta)\", xlab=\"education\", main=\"Probability Married by Education\")\n",
    "abline(v=1, col=\"blue\", lty=3)\n",
    "abline(v=16, col=\"blue\", lty=3)\n",
    "\n",
    "plot(xseq, f, type=\"l\", lwd=1.5, col=\"red\", ylim=c(0,1), ylab=\"E(y|x,theta)\", xlab=\"education\", xlim=c(-5,20))\n",
    "for(i in 1:16){\n",
    "\tflag<-mydata$educ==i\n",
    "\tpoints(x=i, y=mean(mydata[flag,\"married\"]))\n",
    "}\n"
   ]
  },
  {
   "cell_type": "markdown",
   "metadata": {},
   "source": [
    "## Show the LogLikelihood surface"
   ]
  },
  {
   "cell_type": "code",
   "execution_count": null,
   "metadata": {},
   "outputs": [],
   "source": [
    "sample.data <- mydata[sample(1:nrow(mydata),10000), ]\n",
    "b1.seq <- seq(from=-3, to=2, length=25)\n",
    "b2.seq <- seq(from=-.2, to=.3, length=25)\n",
    "llsurface <- matrix(NA, nrow=length(b1.seq), ncol=length(b2.seq))\n",
    "\n",
    "for(i in 1:length(b1.seq)){\n",
    "\tfor(j in 1:length(b2.seq)){\n",
    "\t\tllsurface[i,j] <- sum(-1* calcllik(b=c(b1.seq[i], b2.seq[j]), data=sample.data) )\n",
    "\t}\n",
    "}\n",
    "\n",
    "filled.contour(x=b1.seq, y=b2.seq, z=llsurface, color = terrain.colors,  xlab=\"constant parameter\", ylab=\"education parameter\")\n",
    "\n",
    "\n",
    "\n"
   ]
  },
  {
   "cell_type": "markdown",
   "metadata": {},
   "source": [
    "## Stocastic Gradient Descent"
   ]
  },
  {
   "cell_type": "code",
   "execution_count": null,
   "metadata": {},
   "outputs": [],
   "source": [
    "# Calculate the gradient at a point in the parameter space\n",
    "calcgradient <- function(B, C, theta, fun){\n",
    "\tdx <- 0.0001\n",
    "\n",
    "\tout1 <-\teval(fun(b=theta, data=B))\n",
    "\tout2 <- eval(fun(b=theta + c(0,dx), data=B))\n",
    "\tout3 <- eval(fun(b=theta + c(dx,0), data=B))\n",
    "\n",
    "\tDel.1 <- 1                                # Fix this\n",
    "\t# Del.1 <- clip(Del.1, lower=0, upper=1)  # Fix this\n",
    "\tmean.Del.1 <- mean(Del.1)\n",
    "\n",
    "\tDel.2 <- 1                                # Fix this\n",
    "\t# Del.2 <- clip(Del.2, lower=0, upper=1)  # Fix this\n",
    "\tmean.Del.2 <- mean(Del.2)\n",
    "\n",
    "\treturn(c(mean.Del.1,mean.Del.2))\n",
    "}\n",
    "\n",
    "\n",
    "\n",
    "N <- nrow(mydata)\n",
    "L <- round(sqrt(nrow(mydata)))     # This is the recommended batch size\n",
    "\n",
    "steps <- 1   \t  # Fix this\n",
    "\n",
    "## Shuffle the data\n",
    "index <- sample(1:nrow(mydata))\n",
    "mydata <- mydata[index,]\n",
    "epsilon <-1\n",
    "\n",
    "theta <- c(0,0)   # Starting parameters\n",
    "C <- 10\t\t\t  # Interval to clip over\n",
    "nu <- c(1,0.01)   # Learning speeds\n",
    "\n",
    "\n",
    "history <- matrix(NA, nrow=steps+1, ncol=2)\n",
    "history[1,] <- theta\n",
    "\n",
    "\n",
    "# Iterate one step of SGD\n",
    "for(i in 1:steps){\n",
    "\tstartB <- ((i-1)*L+1)\n",
    "\tif(i<L){\n",
    "\t\tstopB <- i*L\n",
    "\t}else{\n",
    "\t\tstopB <- nrow(mydata)\n",
    "\t}\n",
    "\n",
    "\tindex<-sample(1:nrow(mydata),L)\n",
    "\tB <- mydata[startB:stopB, ]\n",
    "\tDel <- calcgradient(B, C, theta, fun=calcllik)\n",
    "\tcat(\"Del:  \",Del,\"\\n\")\n",
    "\ttheta <- theta   \t\t\t\t# Fix this\n",
    "\tcat(\"Theta:\",theta, \"\\n\")\n",
    "\n",
    "\thistory[i+1,] <- theta\n",
    "\n",
    "}\n",
    "\n",
    "par(mfcol=c(2,1))\n",
    "\n",
    "all.ylim<-c( min(c(history[,1],output$coef[1] )), max(c(history[,1],output$coef[1] )))\n",
    "plot(history[,1], type=\"l\", ylim=all.ylim, ylab=\"beta 0\", xlab=\"step\", lwd=1.5)\n",
    "abline(h=output$coef[1], lty=2, col=\"blue\", lwd=1.5)\n",
    "\n",
    "\n",
    "all.ylim<-c( min(c(history[,2],output$coef[2] )), max(c(history[,2],output$coef[2] )))\n",
    "plot(history[,2], type=\"l\", ylim=all.ylim, ylab=\"beta 1\", xlab=\"step\", lwd=1.5)\n",
    "abline(h=output$coef[2], lty=2, col=\"blue\", lwd=1.5)\n",
    "\n",
    "dev.copy2pdf(file=\"./figs/dpSGD.pdf\")\n",
    "\n"
   ]
  },
  {
   "cell_type": "code",
   "execution_count": null,
   "metadata": {},
   "outputs": [],
   "source": []
  }
 ],
 "metadata": {
  "kernelspec": {
   "display_name": "R",
   "language": "R",
   "name": "ir"
  },
  "language_info": {
   "codemirror_mode": "r",
   "file_extension": ".r",
   "mimetype": "text/x-r-source",
   "name": "R",
   "pygments_lexer": "r",
   "version": "3.4.3"
  }
 },
 "nbformat": 4,
 "nbformat_minor": 2
}
