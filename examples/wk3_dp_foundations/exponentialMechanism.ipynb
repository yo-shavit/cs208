{
 "cells": [
  {
   "cell_type": "markdown",
   "metadata": {},
   "source": [
    "## demonstrate exponential mechanism on release of medians"
   ]
  },
  {
   "cell_type": "markdown",
   "metadata": {},
   "source": [
    "** Load data and some utility functions"
   ]
  },
  {
   "cell_type": "code",
   "execution_count": null,
   "metadata": {},
   "outputs": [],
   "source": [
    "#### Parameters ####\n",
    "\n",
    "set.seed(1234)\n",
    "n.sims <- 2000\n",
    "\n",
    "## Bound/Censor/Clip a variable to a range\n",
    "clip <- function(x, lower, upper){\n",
    "\tx.clipped <- x\n",
    "\tx.clipped[x.clipped<lower] <- lower\n",
    "\tx.clipped[x.clipped>upper] <- upper\n",
    "\treturn(x.clipped)\t\n",
    "}\n",
    "\n",
    "## Sample with replacement from a vector\n",
    "bootstrap <- function(x, y=NULL, n){\n",
    "\tindex <- sample(x=1:length(x), size=n, replace=TRUE) \n",
    "\n",
    "\tif(is.null(y)){\n",
    "\t\treturn(x[index])\n",
    "\t}else{\n",
    "\t\treturn(list(x=x[index], y=y[index]))\n",
    "\t}\n",
    "}\n",
    "\n",
    "## Load the data\n",
    "\n",
    "library(\"foreign\")\n",
    "PUMSdata <- read.csv(file=\"https://raw.githubusercontent.com/privacytoolsproject/cs208/master/data/FultonPUMS5full.csv\")   \n",
    "data <- PUMSdata$educ    \t\t# variable for means\n",
    "populationTrue <- median(data)\n"
   ]
  },
  {
   "cell_type": "markdown",
   "metadata": {},
   "source": [
    "**Here is our Exponential Mechanism for Median Release"
   ]
  },
  {
   "cell_type": "code",
   "execution_count": null,
   "metadata": {},
   "outputs": [],
   "source": [
    "medianRelease <- function(x, lower, upper, nbins=0, epsilon){\n",
    "\tn <- length(x)\n",
    "\tif(nbins==0){\n",
    "\t\tbins <- floor(lower):ceiling(upper)    # For integers, this is just lower:upper\n",
    "        nbins <- length(bins)\n",
    "    }\n",
    "\tx.clipped <- clip(x, lower, upper)\n",
    "    sensitiveValue <- median(x)\n",
    "\n",
    "\tquality <- rep(NA, nbins)\n",
    "\tfor(i in 1:length(quality)){\n",
    "\t\tquality[i] <- 1                 # Correct this\n",
    "\t}\n",
    "\tlikelihoods <- exp(epsilon * quality) / 2\n",
    "\tprobabilities <- likelihoods/sum(likelihoods)\n",
    "    \n",
    "    flag <- runif(n=1, min=0, max=1) < cumsum(probabilities) # See also rmultinom()\n",
    "    DPrelease <- min(bins[flag]) \n",
    "\n",
    "    return(list(release=DPrelease, true=sensitiveValue))\n",
    "}\n"
   ]
  },
  {
   "cell_type": "markdown",
   "metadata": {},
   "source": [
    "**Show repeated releases on one sample of data"
   ]
  },
  {
   "cell_type": "code",
   "execution_count": null,
   "metadata": {},
   "outputs": [],
   "source": [
    "sample.index <- sample(1:length(data), size=100, replace=FALSE)\n",
    "x <- data[sample.index]\n",
    "\n",
    "history <- rep(NA, n.sims)\n",
    "for(i in 1:n.sims){\n",
    "\thistory[i] <- medianRelease(x=x, lower=1, upper=16, epsilon=1)$release\n",
    "}\n",
    "\n",
    "par(mfcol=c(2,1))\n",
    "x.clipped <- clip(x, lower=1, upper=16)\n",
    "hist(x.clipped, breaks=(1:17 -0.5), col=\"dodgerblue3\", main=\"Histogram of private data\")\n",
    "abline(v=median(x.clipped), col=\"red\", lwd=1.5, lty=2)\n",
    "dev.copy2pdf(file=\"./figs/medianExampleDataDist.pdf\")\n",
    "\n",
    "hist(history, breaks=(1:17 -0.5), col=\"dodgerblue3\", main=\"Histogram of released DP medians\")\n"
   ]
  },
  {
   "cell_type": "markdown",
   "metadata": {},
   "source": [
    "**Simulate the exponential mechanism across bootstrapped datasets to see utility\t\t\t\t\t\t\t\t\t"
   ]
  },
  {
   "cell_type": "code",
   "execution_count": null,
   "metadata": {},
   "outputs": [],
   "source": [
    "my.seq <- seq(from=log10(50), to=log10(1000), length=20)  \t# make evenly spaced in logarithmic space\n",
    "n.seq  <- round(10^my.seq)                                 \t# round to integers\n",
    "\n",
    "my.seq <- seq(from=log10(1), to=log10(0.01), length=5)     \t# make evenly spaced in logarithmic space\n",
    "ep.seq <- round(10^my.seq * 100) /100\t\t\t\t\t\t# round to two decimal places\n",
    "\n",
    "rawhistory <- matrix(NA, nrow=length(n.seq)*length(ep.seq)*n.sims, ncol=4)  # matrix to store results\n",
    "agghistory <- matrix(NA, nrow=length(n.seq)*length(ep.seq), ncol=4)         # matrix to store results\n",
    "rawcount <- 0\t\t\t\t\t\t\t\t\t\t\t\t# counter\t\t\t\t\t\t\t\t\t\t\t\t\t\t\t\n",
    "aggcount <- 0                                               # counter\n",
    "\n",
    "for(i in 1:length(n.seq)){\n",
    "\tfor(j in 1:length(ep.seq)){\n",
    "\t\terror <- utility <- NULL\n",
    "\t\taggcount <- aggcount + 1\n",
    "\t\tfor(k in 1:n.sims){\n",
    "\t\t\trawcount <- rawcount + 1\n",
    "\n",
    "\t\t\t## Median release\n",
    "\t\t\tbootdata <- bootstrap(x=data, n=n.seq[i])\n",
    "\t\t\tDPmedian <- medianRelease(x=bootdata, lower=1, upper=16, epsilon=ep.seq[j])\n",
    "\t\t\trelease <- DPmedian$release\n",
    "\t\t\tsampleTrue <- DPmedian$true\n",
    "\n",
    "\t\t\terror <- c(error, sampleTrue - release)\n",
    "\t\t\tutility <- c(utility, min( sum(bootdata<=release), sum(bootdata>=release)) )\n",
    "\n",
    "\t\t\trawhistory[rawcount, 1] <- n.seq[i]\n",
    "\t\t\trawhistory[rawcount, 2] <- ep.seq[j]\n",
    "\t\t\trawhistory[rawcount, 3] <- release\n",
    "\t\t\trawhistory[rawcount, 4] <- sampleTrue\n",
    "\n",
    "\t\t}\n",
    "\t\tagghistory[aggcount, 1] <- n.seq[i]\n",
    "\t\tagghistory[aggcount, 2] <- ep.seq[j]\n",
    "\t\tagghistory[aggcount, 3] <- sqrt( mean( (error)^2 ) )  # RMSE\n",
    "\t\tagghistory[aggcount, 4] <- mean(utility/n.seq[i])\n",
    "\t}\n",
    "}\n"
   ]
  },
  {
   "cell_type": "markdown",
   "metadata": {},
   "source": [
    "**Graphs for plotting results in terms of RMSE and utilty"
   ]
  },
  {
   "cell_type": "code",
   "execution_count": null,
   "metadata": {},
   "outputs": [],
   "source": [
    "par(mfrow=c(2,2))\n",
    "color.palette<-rainbow(length(ep.seq), start=.7, end=.1)   # This creates a sequence of colors to use in subsequent plots, as in showchisq.r\n",
    "\n",
    "\n",
    "for(j in 1:length(ep.seq)){\n",
    "\tflag <- agghistory[,2] == ep.seq[j]\n",
    "\tsubhistory <- agghistory[flag,]\n",
    "\n",
    "\tallylim <- c(0, max(agghistory[,3]))\n",
    "\n",
    "\tif(j==1){\n",
    "\t\tplot(subhistory[,1],subhistory[,3], ylim=allylim, type=\"l\", col=color.palette[j], xlab=\"N\", ylab=\"RMSE\")\n",
    "\t}else{\n",
    "\t\tlines(subhistory[,1],subhistory[,3], col=color.palette[j])\n",
    "\t}\n",
    "}\n",
    "\n",
    "for(j in 1:length(ep.seq)){\n",
    "\tflag <- agghistory[,2] == ep.seq[j]\n",
    "\tsubhistory <- agghistory[flag,]\n",
    "\n",
    "\tallylim <- c(min(agghistory[,3])+0.00001, max(agghistory[,3]))\n",
    "\n",
    "\txloc <- round(length(n.seq)*0.3)\n",
    "\n",
    "\tif(j==1){\n",
    "\t\tplot(subhistory[,1],subhistory[,3]+0.00001, ylim=allylim, type=\"l\", log = \"y\", col=color.palette[j], xlab=\"N\", ylab=\"RMSE\")\n",
    "\t\ttext(x=subhistory[xloc,1], y=subhistory[xloc,3]+0.00001, label=  bquote(paste(epsilon == .(ep.seq[j]))), col=color.palette[j], pos=4)\n",
    "\t}else{\n",
    "\t\tlines(subhistory[,1],subhistory[,3]+0.00001, col=color.palette[j])\n",
    "\t\ttext(x=subhistory[xloc,1], y=subhistory[xloc,3]+0.00001, label=  bquote(paste(epsilon == .(ep.seq[j]))), col=color.palette[j], pos=4) \n",
    "\t}\n",
    "}\n",
    "\n",
    "for(j in 1:length(ep.seq)){\n",
    "\tflag <- agghistory[,2] == ep.seq[j]\n",
    "\tsubhistory <- agghistory[flag,]\n",
    "\n",
    "\tallylim <- c(0, max(agghistory[,4]))\n",
    "\n",
    "\tif(j==1){\n",
    "\t\tplot(subhistory[,1],subhistory[,4], ylim=allylim, type=\"l\", col=color.palette[j], xlab=\"N\", ylab=\"Utility/n\")\n",
    "\t}else{\n",
    "\t\tlines(subhistory[,1],subhistory[,4], col=color.palette[j])\n",
    "\t}\n",
    "}\n",
    "abline(h=0.5, lty=2)\n",
    "\n",
    "for(j in 1:length(ep.seq)){\n",
    "\tflag <- agghistory[,2] == ep.seq[j]\n",
    "\tsubhistory <- agghistory[flag,]\n",
    "\n",
    "\tallylim <- c(min(agghistory[,4]), max(agghistory[,4]))\n",
    "\n",
    "\txloc <- round(length(n.seq)*0.3)\n",
    "\n",
    "\tif(j==1){\n",
    "\t\tplot(subhistory[,1],subhistory[,4], ylim=allylim, type=\"l\", log = \"y\", col=color.palette[j], xlab=\"N\", ylab=\"Utility/n\")\n",
    "\t\ttext(x=subhistory[xloc,1], y=subhistory[xloc,4], label=  bquote(paste(epsilon == .(ep.seq[j]))), col=color.palette[j], pos=4)\n",
    "\t}else{\n",
    "\t\tlines(subhistory[,1],subhistory[,4], col=color.palette[j])\n",
    "\t\ttext(x=subhistory[xloc,1], y=subhistory[xloc,4], label=  bquote(paste(epsilon == .(ep.seq[j]))), col=color.palette[j], pos=4) \n",
    "\t}\n",
    "\n",
    "}\n",
    "abline(h=0.5, lty=2)\n"
   ]
  },
  {
   "cell_type": "code",
   "execution_count": null,
   "metadata": {},
   "outputs": [],
   "source": []
  }
 ],
 "metadata": {
  "kernelspec": {
   "display_name": "R",
   "language": "R",
   "name": "ir"
  },
  "language_info": {
   "codemirror_mode": "r",
   "file_extension": ".r",
   "mimetype": "text/x-r-source",
   "name": "R",
   "pygments_lexer": "r",
   "version": "3.4.3"
  }
 },
 "nbformat": 4,
 "nbformat_minor": 2
}
