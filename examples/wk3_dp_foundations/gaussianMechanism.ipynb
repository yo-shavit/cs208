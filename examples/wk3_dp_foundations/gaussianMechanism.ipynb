{
 "cells": [
  {
   "cell_type": "markdown",
   "metadata": {},
   "source": [
    "## demonstrate and explore Gaussian mechanism on release of means"
   ]
  },
  {
   "cell_type": "markdown",
   "metadata": {},
   "source": [
    "** Load data and some utility functions"
   ]
  },
  {
   "cell_type": "code",
   "execution_count": null,
   "metadata": {},
   "outputs": [],
   "source": [
    "library(\"foreign\")\n",
    "par(ask=TRUE)\n",
    "\n",
    "PUMSdata <- read.csv(file=\"https://raw.githubusercontent.com/privacytoolsproject/cs208/master/data/FultonPUMS5full.csv\")   \n",
    "\n",
    "data <- PUMSdata$educ    \t\t# variable for means\n",
    "\n",
    "data.x <- PUMSdata$educ\t\t\t# x-variable for regression\n",
    "data.y <- PUMSdata$income\t\t# y-variable for regression\n",
    "\n",
    "populationTrue <- mean(data)\n",
    "\n",
    "## Bound/Censor/Clip/Clamp a variable to a range\n",
    "clip <- function(x, lower, upper){\n",
    "\tx.clipped <- x\n",
    "\tx.clipped[x.clipped<lower] <- lower\n",
    "\tx.clipped[x.clipped>upper] <- upper\n",
    "\treturn(x.clipped)\t\n",
    "}\n",
    "\n",
    "## Sample with replacement from a vector\n",
    "bootstrap <- function(x, y=NULL, n){\n",
    "\tindex <- sample(x=1:length(x), size=n, replace=TRUE) \n",
    "\n",
    "\tif(is.null(y)){\n",
    "\t\treturn(x[index])\n",
    "\t}else{\n",
    "\t\treturn(list(x=x[index], y=y[index]))\n",
    "\t}\n",
    "}"
   ]
  },
  {
   "cell_type": "markdown",
   "metadata": {},
   "source": [
    "**show probability distributions, cumulatives and their inverses, for Gaussian distribution"
   ]
  },
  {
   "cell_type": "code",
   "execution_count": null,
   "metadata": {},
   "outputs": [],
   "source": [
    "par(mfrow=c(2,2))\n",
    "set.seed(123)\n",
    "\n",
    "x<-seq(from=-5,to=5,length=100)\n",
    "\n",
    "plot(x,dnorm(x),type=\"l\",main=\"density function - dnorm\")\n",
    "plot(x,pnorm(x),type=\"l\",main=\"cumulative density - pnorm\")\n",
    "\n",
    "x<-seq(from=.001,to=.999,length=100)\n",
    "plot(x,qnorm(x),type=\"l\",ylim=c(-3,3),main=\"inverse cumulative - qnorm\")\n",
    "\n",
    "hist(rnorm(n=1000),main=\"histogram of random draws - rnorm\", breaks=seq(from=-5.25, to=5.25, by=0.5 ))\n"
   ]
  },
  {
   "cell_type": "markdown",
   "metadata": {},
   "source": [
    "** Compare our mechanisms for the release of a mean"
   ]
  },
  {
   "cell_type": "code",
   "execution_count": null,
   "metadata": {},
   "outputs": [],
   "source": [
    "## Differentially private mean release using Laplace mechanism\n",
    "laplaceMeanRelease <- function(x, lower, upper, epsilon){\n",
    "\n",
    "\tn <- length(x)\n",
    "\tsensitivity <- (upper - lower)/n\n",
    "\tscale <- sensitivity / epsilon\n",
    "\n",
    "\tx.clipped <- clip(x, lower, upper)\n",
    "\tsensitiveValue <- mean(x.clipped)\n",
    "\tDPrelease <- sensitiveValue + rlap(mu=0, b=scale, size=1)\n",
    "\n",
    "\treturn(list(release=DPrelease, true=sensitiveValue))\n",
    "}\n",
    "\n",
    "\n",
    "## Differentially private mean release using Gaussian mechanism\n",
    "gaussianMeanRelease <- function(x, lower, upper, epsilon, delta){\n",
    "\n",
    "\tn <- length(x)\n",
    "\tsensitivity <- (upper - lower)/n\n",
    "\tc <- sqrt(2*log(1.25/delta))\n",
    "\tscale <- c*sensitivity / epsilon\n",
    "\n",
    "\tx.clipped <- clip(x, lower, upper)\n",
    "\tsensitiveValue <- mean(x.clipped)\n",
    "\tDPrelease <- sensitiveValue + rnorm(mean=0, sd=scale, size=1)\n",
    "\n",
    "\treturn(list(release=DPrelease, true=sensitiveValue))\n",
    "}\n"
   ]
  },
  {
   "cell_type": "markdown",
   "metadata": {},
   "source": [
    "** Demonstrate behaviour of ratios of Gaussians"
   ]
  },
  {
   "cell_type": "code",
   "execution_count": null,
   "metadata": {},
   "outputs": [],
   "source": [
    "## Create two Gaussians and their ratio\n",
    "\n",
    "delta <- 0.000001\n",
    "x.seq <- seq(from=-10, to=10, length=100)\n",
    "\n",
    "p1 <- dnorm(x.seq, mean=0, sd=1)\n",
    "p2 <- dnorm(x.seq, mean=0.1, sd=1)\n",
    "\n",
    "ratio1 <- p1/p2\n",
    "ratio2 <- p2/p1\n",
    "\n",
    "\n",
    "## Graph the ratios\n",
    "\n",
    "par(mfcol=c(2,1))\n",
    "\n",
    "plot(x=x.seq, y=p1, col=\"blue\", type=\"l\", lwd=1.5, xlab=\"x\", ylab=\"density\")\n",
    "lines(x=x.seq, y=p2, col=\"red\", lwd=1.5)\n",
    "\n",
    "abline(v=qnorm(delta/2), lty=2)\n",
    "abline(v=qnorm(1-delta/2), lty=2)\n",
    "\n",
    "\n",
    "plot(x=x.seq, y=ratio1, type=\"l\", lwd=1.5, xlab=\"x\", ylab=\"ratio of densities\")\n",
    "lines(x=x.seq, y=ratio2)\n",
    "\n",
    "abline(v=qnorm(delta/2), lty=2)\n",
    "abline(v=qnorm(1-delta/2), lty=2)\n"
   ]
  },
  {
   "cell_type": "markdown",
   "metadata": {},
   "source": [
    "**Show how epsilon varies over mean separation"
   ]
  },
  {
   "cell_type": "code",
   "execution_count": null,
   "metadata": {},
   "outputs": [],
   "source": [
    "s<-seq(from=0, to=0.3, length=20) # Separation between means of two normals\n",
    "\n",
    "max.ratio <- dnorm(qnorm(delta/2)) / dnorm(qnorm(delta/2) - s)\n",
    "\n",
    "epsilon <- log(max.ratio)\n",
    "\n",
    "par(mfcol=c(2,1))\n",
    "plot(s, max.ratio, lwd=1.5, type=\"l\", xlab=\"displacement\", ylab=\"max of ratio\")\n",
    "plot(s, epsilon, lwd=1.5, type=\"l\", xlab=\"displacement\", ylab=\"resultant epsilon\")\n"
   ]
  },
  {
   "cell_type": "markdown",
   "metadata": {},
   "source": [
    "**Show relative contribution of epsilon and delta to noise of mechanism"
   ]
  },
  {
   "cell_type": "code",
   "execution_count": null,
   "metadata": {},
   "outputs": [],
   "source": [
    "# The Gaussian Mechanism's Standard Deviation of Noise\n",
    "gmsd <- function(epsilon, delta, sensitivity=1){\n",
    "\tc <- sqrt(2*log(1.25/delta))\n",
    "\tsd <- c*sensitivity / epsilon\n",
    "  \treturn(sd)\n",
    "}\n",
    "\n",
    "my.seq <- seq(from=log10(0.1), to=log10(1), length=20)     \t\t# make evenly spaced in logarithmic space -- NOTE INCREASING VALUES\n",
    "ep.seq <- round(10^my.seq * 100) /100\t\t\t\t\t\t\t# round to two decimal places\n",
    "\n",
    "my.seq <- seq(from=log10(1e-20), to=log10(1e-5), length=16)     # note scientific notation\n",
    "del.seq <- 10^my.seq\n",
    "\n",
    "zhistory <- matrix(NA, nrow=length(ep.seq), ncol=length(del.seq))\n",
    "for(i in 1:length(ep.seq)){\n",
    "\tfor(j in 1:length(del.seq)){\n",
    "\t\tzhistory[i,j] <- gmsd(epsilon=ep.seq[i], delta=del.seq[j], sensitivity=1)\n",
    "\t}\n",
    "}"
   ]
  },
  {
   "cell_type": "code",
   "execution_count": null,
   "metadata": {},
   "outputs": [],
   "source": [
    "\n",
    "# Perspective plot of the utility surface\n",
    "persp(x=log10(ep.seq), y=log10(del.seq), z=zhistory, axes=FALSE, theta=30, phi=30, xlab=\"epsilon\", ylab=\"delta\", zlab=\"sd noise\")\n",
    "dev.copy2pdf(file=\"./figs/gaussianUtility1.pdf\")\n",
    "\n"
   ]
  },
  {
   "cell_type": "code",
   "execution_count": null,
   "metadata": {},
   "outputs": [],
   "source": [
    "\n",
    "# Contour plot of the utility surface\n",
    "contour(x=log10(ep.seq), y=log10(del.seq), z=zhistory, xlab=\"epsilon\", ylab=\"delta\")\n",
    "dev.copy2pdf(file=\"./figs/gaussianUtility2.pdf\")\n",
    "\n"
   ]
  },
  {
   "cell_type": "code",
   "execution_count": null,
   "metadata": {},
   "outputs": [],
   "source": [
    "\n",
    "# \"levels\" plot of the utility surface\n",
    "xtick <- pretty(ep.seq)\n",
    "filled.contour(x=log10(ep.seq), y=log10(del.seq), z=zhistory, color = terrain.colors,  xlab=\"epsilon\", ylab=\"delta\", \n",
    "\tplot.axes={contour(x=log10(ep.seq),y=log10(del.seq),z=zhistory,add=TRUE); \n",
    "\taxis(1, at=log10(xtick), label=xtick); axis(2, at=log10(del.seq), label=del.seq)},\n",
    "\tkey.title = title(main=\"RMSE\"))\n",
    "dev.copy2pdf(file=\"./figs/gaussianUtility3.pdf\")\n",
    "\n"
   ]
  },
  {
   "cell_type": "code",
   "execution_count": null,
   "metadata": {},
   "outputs": [],
   "source": []
  }
 ],
 "metadata": {
  "kernelspec": {
   "display_name": "R",
   "language": "R",
   "name": "ir"
  },
  "language_info": {
   "codemirror_mode": "r",
   "file_extension": ".r",
   "mimetype": "text/x-r-source",
   "name": "R",
   "pygments_lexer": "r",
   "version": "3.4.3"
  }
 },
 "nbformat": 4,
 "nbformat_minor": 2
}
